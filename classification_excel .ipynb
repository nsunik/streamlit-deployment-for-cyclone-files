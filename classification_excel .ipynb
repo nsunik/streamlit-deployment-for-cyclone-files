{
 "cells": [
  {
   "cell_type": "markdown",
   "id": "219cdef2",
   "metadata": {},
   "source": [
    "# Cyclone Patterns & Classification"
   ]
  },
  {
   "cell_type": "markdown",
   "id": "056f717d",
   "metadata": {},
   "source": [
    "Excel file contain 4 cyclone Type classification \n",
    "1.Typhoon\n",
    "2.Severe Tropical Storm\n",
    "3.Tropical Storm\n",
    "4.Tropical Depression"
   ]
  },
  {
   "cell_type": "markdown",
   "id": "21bad5da",
   "metadata": {},
   "source": [
    "Category\t                              Sustained winds\n",
    "1.Typhoon                     (T)\t          ≥118 km/h\n",
    "\n",
    "2.Severe Tropical Storm\t      (SS)            89–117 km/h\n",
    "\n",
    "3.Tropical Storm \t          (S)             62–88 km/h\n",
    " \n",
    "4.Tropical Depression)        (D)              ≤61 km/h"
   ]
  },
  {
   "cell_type": "markdown",
   "id": "ac5b1435",
   "metadata": {},
   "source": [
    "Classification     TypeName                      Type\n",
    " \n",
    "   1               Typhoon                       T\n",
    "   2               Severe Tropical Storm         SS\n",
    "   3               Tropical Storm                S\n",
    "   4               Tropical Depression           D"
   ]
  },
  {
   "cell_type": "code",
   "execution_count": 1,
   "id": "f16ee6a3",
   "metadata": {},
   "outputs": [],
   "source": [
    "#importing libraries\n",
    "import numpy as np\n",
    "import pandas as pd\n",
    "import matplotlib.pyplot as plt\n",
    "import time\n",
    "%matplotlib inline\n",
    "import seaborn as sns\n",
    "from sklearn import preprocessing"
   ]
  },
  {
   "cell_type": "code",
   "execution_count": 2,
   "id": "6ee46faf",
   "metadata": {},
   "outputs": [],
   "source": [
    "import warnings\n",
    "warnings.filterwarnings('ignore')"
   ]
  },
  {
   "cell_type": "code",
   "execution_count": 42,
   "id": "d5cbc951",
   "metadata": {},
   "outputs": [],
   "source": [
    "cyc_df=pd.read_excel('Cyclone Excel File.xlsx')\n",
    "#/Users/n.sunik/IBM_Internship"
   ]
  },
  {
   "cell_type": "code",
   "execution_count": 43,
   "id": "c155c8ed",
   "metadata": {},
   "outputs": [
    {
     "data": {
      "text/html": [
       "<div>\n",
       "<style scoped>\n",
       "    .dataframe tbody tr th:only-of-type {\n",
       "        vertical-align: middle;\n",
       "    }\n",
       "\n",
       "    .dataframe tbody tr th {\n",
       "        vertical-align: top;\n",
       "    }\n",
       "\n",
       "    .dataframe thead th {\n",
       "        text-align: right;\n",
       "    }\n",
       "</style>\n",
       "<table border=\"1\" class=\"dataframe\">\n",
       "  <thead>\n",
       "    <tr style=\"text-align: right;\">\n",
       "      <th></th>\n",
       "      <th>Year</th>\n",
       "      <th>Month</th>\n",
       "      <th>Date</th>\n",
       "      <th>Time</th>\n",
       "      <th>CycloneName</th>\n",
       "      <th>TypeName</th>\n",
       "      <th>Type</th>\n",
       "      <th>Wind(km/h)</th>\n",
       "      <th>Pressure(mb)</th>\n",
       "      <th>Unnamed: 9</th>\n",
       "      <th>...</th>\n",
       "      <th>Unnamed: 15</th>\n",
       "      <th>Unnamed: 16</th>\n",
       "      <th>Unnamed: 17</th>\n",
       "      <th>Unnamed: 18</th>\n",
       "      <th>Unnamed: 19</th>\n",
       "      <th>Unnamed: 20</th>\n",
       "      <th>Unnamed: 21</th>\n",
       "      <th>Unnamed: 22</th>\n",
       "      <th>Unnamed: 23</th>\n",
       "      <th>Unnamed: 24</th>\n",
       "    </tr>\n",
       "  </thead>\n",
       "  <tbody>\n",
       "    <tr>\n",
       "      <th>0</th>\n",
       "      <td>2021.0</td>\n",
       "      <td>December</td>\n",
       "      <td>Dec 18</td>\n",
       "      <td>11:30</td>\n",
       "      <td>Typhoon Rai (Odette) 2021</td>\n",
       "      <td>Typhoon</td>\n",
       "      <td>T</td>\n",
       "      <td>170.0</td>\n",
       "      <td>962.0</td>\n",
       "      <td>NaN</td>\n",
       "      <td>...</td>\n",
       "      <td>NaN</td>\n",
       "      <td>NaN</td>\n",
       "      <td>NaN</td>\n",
       "      <td>NaN</td>\n",
       "      <td>NaN</td>\n",
       "      <td>NaN</td>\n",
       "      <td>NaN</td>\n",
       "      <td>NaN</td>\n",
       "      <td>NaN</td>\n",
       "      <td>NaN</td>\n",
       "    </tr>\n",
       "    <tr>\n",
       "      <th>1</th>\n",
       "      <td>2021.0</td>\n",
       "      <td>December</td>\n",
       "      <td>Dec 19</td>\n",
       "      <td>17:30</td>\n",
       "      <td>Typhoon Rai (Odette) 2021</td>\n",
       "      <td>Typhoon</td>\n",
       "      <td>T</td>\n",
       "      <td>165.0</td>\n",
       "      <td>957.0</td>\n",
       "      <td>NaN</td>\n",
       "      <td>...</td>\n",
       "      <td>NaN</td>\n",
       "      <td>NaN</td>\n",
       "      <td>NaN</td>\n",
       "      <td>NaN</td>\n",
       "      <td>NaN</td>\n",
       "      <td>NaN</td>\n",
       "      <td>NaN</td>\n",
       "      <td>NaN</td>\n",
       "      <td>NaN</td>\n",
       "      <td>NaN</td>\n",
       "    </tr>\n",
       "    <tr>\n",
       "      <th>2</th>\n",
       "      <td>2021.0</td>\n",
       "      <td>December</td>\n",
       "      <td>Dec 19</td>\n",
       "      <td>23:30</td>\n",
       "      <td>Typhoon Rai (Odette) 2021</td>\n",
       "      <td>Typhoon</td>\n",
       "      <td>T</td>\n",
       "      <td>170.0</td>\n",
       "      <td>962.0</td>\n",
       "      <td>NaN</td>\n",
       "      <td>...</td>\n",
       "      <td>NaN</td>\n",
       "      <td>NaN</td>\n",
       "      <td>NaN</td>\n",
       "      <td>NaN</td>\n",
       "      <td>NaN</td>\n",
       "      <td>NaN</td>\n",
       "      <td>NaN</td>\n",
       "      <td>NaN</td>\n",
       "      <td>NaN</td>\n",
       "      <td>NaN</td>\n",
       "    </tr>\n",
       "    <tr>\n",
       "      <th>3</th>\n",
       "      <td>2021.0</td>\n",
       "      <td>December</td>\n",
       "      <td>Dec 17</td>\n",
       "      <td>17:30</td>\n",
       "      <td>Typhoon Rai (Odette) 2021</td>\n",
       "      <td>Typhoon</td>\n",
       "      <td>T</td>\n",
       "      <td>175.0</td>\n",
       "      <td>963.0</td>\n",
       "      <td>NaN</td>\n",
       "      <td>...</td>\n",
       "      <td>NaN</td>\n",
       "      <td>NaN</td>\n",
       "      <td>NaN</td>\n",
       "      <td>NaN</td>\n",
       "      <td>NaN</td>\n",
       "      <td>NaN</td>\n",
       "      <td>NaN</td>\n",
       "      <td>NaN</td>\n",
       "      <td>NaN</td>\n",
       "      <td>NaN</td>\n",
       "    </tr>\n",
       "    <tr>\n",
       "      <th>4</th>\n",
       "      <td>2021.0</td>\n",
       "      <td>December</td>\n",
       "      <td>Dec 15</td>\n",
       "      <td>5:30</td>\n",
       "      <td>Typhoon Rai (Odette) 2021</td>\n",
       "      <td>Typhoon</td>\n",
       "      <td>T</td>\n",
       "      <td>120.0</td>\n",
       "      <td>985.0</td>\n",
       "      <td>NaN</td>\n",
       "      <td>...</td>\n",
       "      <td>NaN</td>\n",
       "      <td>NaN</td>\n",
       "      <td>NaN</td>\n",
       "      <td>NaN</td>\n",
       "      <td>NaN</td>\n",
       "      <td>NaN</td>\n",
       "      <td>NaN</td>\n",
       "      <td>NaN</td>\n",
       "      <td>NaN</td>\n",
       "      <td>NaN</td>\n",
       "    </tr>\n",
       "  </tbody>\n",
       "</table>\n",
       "<p>5 rows × 25 columns</p>\n",
       "</div>"
      ],
      "text/plain": [
       "     Year     Month    Date   Time                CycloneName TypeName Type  \\\n",
       "0  2021.0  December  Dec 18  11:30  Typhoon Rai (Odette) 2021  Typhoon    T   \n",
       "1  2021.0  December  Dec 19  17:30  Typhoon Rai (Odette) 2021  Typhoon    T   \n",
       "2  2021.0  December  Dec 19  23:30  Typhoon Rai (Odette) 2021  Typhoon    T   \n",
       "3  2021.0  December  Dec 17  17:30  Typhoon Rai (Odette) 2021  Typhoon    T   \n",
       "4  2021.0  December  Dec 15   5:30  Typhoon Rai (Odette) 2021  Typhoon    T   \n",
       "\n",
       "   Wind(km/h)  Pressure(mb)  Unnamed: 9  ...  Unnamed: 15  Unnamed: 16  \\\n",
       "0       170.0         962.0         NaN  ...          NaN          NaN   \n",
       "1       165.0         957.0         NaN  ...          NaN          NaN   \n",
       "2       170.0         962.0         NaN  ...          NaN          NaN   \n",
       "3       175.0         963.0         NaN  ...          NaN          NaN   \n",
       "4       120.0         985.0         NaN  ...          NaN          NaN   \n",
       "\n",
       "   Unnamed: 17  Unnamed: 18  Unnamed: 19  Unnamed: 20  Unnamed: 21  \\\n",
       "0          NaN          NaN          NaN          NaN          NaN   \n",
       "1          NaN          NaN          NaN          NaN          NaN   \n",
       "2          NaN          NaN          NaN          NaN          NaN   \n",
       "3          NaN          NaN          NaN          NaN          NaN   \n",
       "4          NaN          NaN          NaN          NaN          NaN   \n",
       "\n",
       "   Unnamed: 22  Unnamed: 23  Unnamed: 24  \n",
       "0          NaN          NaN          NaN  \n",
       "1          NaN          NaN          NaN  \n",
       "2          NaN          NaN          NaN  \n",
       "3          NaN          NaN          NaN  \n",
       "4          NaN          NaN          NaN  \n",
       "\n",
       "[5 rows x 25 columns]"
      ]
     },
     "execution_count": 43,
     "metadata": {},
     "output_type": "execute_result"
    }
   ],
   "source": [
    "cyc_df.head()"
   ]
  },
  {
   "cell_type": "markdown",
   "id": "8b319b6e",
   "metadata": {},
   "source": [
    "174 rows × 9 columns"
   ]
  },
  {
   "cell_type": "code",
   "execution_count": 44,
   "id": "6961a912",
   "metadata": {},
   "outputs": [
    {
     "data": {
      "text/html": [
       "<div>\n",
       "<style scoped>\n",
       "    .dataframe tbody tr th:only-of-type {\n",
       "        vertical-align: middle;\n",
       "    }\n",
       "\n",
       "    .dataframe tbody tr th {\n",
       "        vertical-align: top;\n",
       "    }\n",
       "\n",
       "    .dataframe thead th {\n",
       "        text-align: right;\n",
       "    }\n",
       "</style>\n",
       "<table border=\"1\" class=\"dataframe\">\n",
       "  <thead>\n",
       "    <tr style=\"text-align: right;\">\n",
       "      <th></th>\n",
       "      <th>Year</th>\n",
       "      <th>Month</th>\n",
       "      <th>Date</th>\n",
       "      <th>Time</th>\n",
       "      <th>CycloneName</th>\n",
       "      <th>TypeName</th>\n",
       "      <th>Type</th>\n",
       "      <th>Wind(km/h)</th>\n",
       "      <th>Pressure(mb)</th>\n",
       "      <th>Unnamed: 9</th>\n",
       "      <th>...</th>\n",
       "      <th>Unnamed: 15</th>\n",
       "      <th>Unnamed: 16</th>\n",
       "      <th>Unnamed: 17</th>\n",
       "      <th>Unnamed: 18</th>\n",
       "      <th>Unnamed: 19</th>\n",
       "      <th>Unnamed: 20</th>\n",
       "      <th>Unnamed: 21</th>\n",
       "      <th>Unnamed: 22</th>\n",
       "      <th>Unnamed: 23</th>\n",
       "      <th>Unnamed: 24</th>\n",
       "    </tr>\n",
       "  </thead>\n",
       "  <tbody>\n",
       "    <tr>\n",
       "      <th>count</th>\n",
       "      <td>171.000000</td>\n",
       "      <td>42</td>\n",
       "      <td>172</td>\n",
       "      <td>172</td>\n",
       "      <td>42</td>\n",
       "      <td>172</td>\n",
       "      <td>170</td>\n",
       "      <td>172.000000</td>\n",
       "      <td>172.000000</td>\n",
       "      <td>0.0</td>\n",
       "      <td>...</td>\n",
       "      <td>0.0</td>\n",
       "      <td>0.0</td>\n",
       "      <td>0.0</td>\n",
       "      <td>0.0</td>\n",
       "      <td>0.0</td>\n",
       "      <td>0.0</td>\n",
       "      <td>0.0</td>\n",
       "      <td>0.0</td>\n",
       "      <td>0.0</td>\n",
       "      <td>0.0</td>\n",
       "    </tr>\n",
       "    <tr>\n",
       "      <th>unique</th>\n",
       "      <td>NaN</td>\n",
       "      <td>3</td>\n",
       "      <td>71</td>\n",
       "      <td>17</td>\n",
       "      <td>3</td>\n",
       "      <td>4</td>\n",
       "      <td>4</td>\n",
       "      <td>NaN</td>\n",
       "      <td>NaN</td>\n",
       "      <td>NaN</td>\n",
       "      <td>...</td>\n",
       "      <td>NaN</td>\n",
       "      <td>NaN</td>\n",
       "      <td>NaN</td>\n",
       "      <td>NaN</td>\n",
       "      <td>NaN</td>\n",
       "      <td>NaN</td>\n",
       "      <td>NaN</td>\n",
       "      <td>NaN</td>\n",
       "      <td>NaN</td>\n",
       "      <td>NaN</td>\n",
       "    </tr>\n",
       "    <tr>\n",
       "      <th>top</th>\n",
       "      <td>NaN</td>\n",
       "      <td>September</td>\n",
       "      <td>2021-01-18 00:00:00</td>\n",
       "      <td>02:30:00</td>\n",
       "      <td>Typhoon Malou 2021</td>\n",
       "      <td>TROPICAL STORM</td>\n",
       "      <td>S</td>\n",
       "      <td>NaN</td>\n",
       "      <td>NaN</td>\n",
       "      <td>NaN</td>\n",
       "      <td>...</td>\n",
       "      <td>NaN</td>\n",
       "      <td>NaN</td>\n",
       "      <td>NaN</td>\n",
       "      <td>NaN</td>\n",
       "      <td>NaN</td>\n",
       "      <td>NaN</td>\n",
       "      <td>NaN</td>\n",
       "      <td>NaN</td>\n",
       "      <td>NaN</td>\n",
       "      <td>NaN</td>\n",
       "    </tr>\n",
       "    <tr>\n",
       "      <th>freq</th>\n",
       "      <td>NaN</td>\n",
       "      <td>25</td>\n",
       "      <td>8</td>\n",
       "      <td>25</td>\n",
       "      <td>25</td>\n",
       "      <td>53</td>\n",
       "      <td>53</td>\n",
       "      <td>NaN</td>\n",
       "      <td>NaN</td>\n",
       "      <td>NaN</td>\n",
       "      <td>...</td>\n",
       "      <td>NaN</td>\n",
       "      <td>NaN</td>\n",
       "      <td>NaN</td>\n",
       "      <td>NaN</td>\n",
       "      <td>NaN</td>\n",
       "      <td>NaN</td>\n",
       "      <td>NaN</td>\n",
       "      <td>NaN</td>\n",
       "      <td>NaN</td>\n",
       "      <td>NaN</td>\n",
       "    </tr>\n",
       "    <tr>\n",
       "      <th>mean</th>\n",
       "      <td>2016.660819</td>\n",
       "      <td>NaN</td>\n",
       "      <td>NaN</td>\n",
       "      <td>NaN</td>\n",
       "      <td>NaN</td>\n",
       "      <td>NaN</td>\n",
       "      <td>NaN</td>\n",
       "      <td>93.866279</td>\n",
       "      <td>987.058140</td>\n",
       "      <td>NaN</td>\n",
       "      <td>...</td>\n",
       "      <td>NaN</td>\n",
       "      <td>NaN</td>\n",
       "      <td>NaN</td>\n",
       "      <td>NaN</td>\n",
       "      <td>NaN</td>\n",
       "      <td>NaN</td>\n",
       "      <td>NaN</td>\n",
       "      <td>NaN</td>\n",
       "      <td>NaN</td>\n",
       "      <td>NaN</td>\n",
       "    </tr>\n",
       "    <tr>\n",
       "      <th>std</th>\n",
       "      <td>4.124766</td>\n",
       "      <td>NaN</td>\n",
       "      <td>NaN</td>\n",
       "      <td>NaN</td>\n",
       "      <td>NaN</td>\n",
       "      <td>NaN</td>\n",
       "      <td>NaN</td>\n",
       "      <td>37.986911</td>\n",
       "      <td>14.509005</td>\n",
       "      <td>NaN</td>\n",
       "      <td>...</td>\n",
       "      <td>NaN</td>\n",
       "      <td>NaN</td>\n",
       "      <td>NaN</td>\n",
       "      <td>NaN</td>\n",
       "      <td>NaN</td>\n",
       "      <td>NaN</td>\n",
       "      <td>NaN</td>\n",
       "      <td>NaN</td>\n",
       "      <td>NaN</td>\n",
       "      <td>NaN</td>\n",
       "    </tr>\n",
       "    <tr>\n",
       "      <th>min</th>\n",
       "      <td>2009.000000</td>\n",
       "      <td>NaN</td>\n",
       "      <td>NaN</td>\n",
       "      <td>NaN</td>\n",
       "      <td>NaN</td>\n",
       "      <td>NaN</td>\n",
       "      <td>NaN</td>\n",
       "      <td>35.000000</td>\n",
       "      <td>949.000000</td>\n",
       "      <td>NaN</td>\n",
       "      <td>...</td>\n",
       "      <td>NaN</td>\n",
       "      <td>NaN</td>\n",
       "      <td>NaN</td>\n",
       "      <td>NaN</td>\n",
       "      <td>NaN</td>\n",
       "      <td>NaN</td>\n",
       "      <td>NaN</td>\n",
       "      <td>NaN</td>\n",
       "      <td>NaN</td>\n",
       "      <td>NaN</td>\n",
       "    </tr>\n",
       "    <tr>\n",
       "      <th>25%</th>\n",
       "      <td>2013.000000</td>\n",
       "      <td>NaN</td>\n",
       "      <td>NaN</td>\n",
       "      <td>NaN</td>\n",
       "      <td>NaN</td>\n",
       "      <td>NaN</td>\n",
       "      <td>NaN</td>\n",
       "      <td>60.000000</td>\n",
       "      <td>979.000000</td>\n",
       "      <td>NaN</td>\n",
       "      <td>...</td>\n",
       "      <td>NaN</td>\n",
       "      <td>NaN</td>\n",
       "      <td>NaN</td>\n",
       "      <td>NaN</td>\n",
       "      <td>NaN</td>\n",
       "      <td>NaN</td>\n",
       "      <td>NaN</td>\n",
       "      <td>NaN</td>\n",
       "      <td>NaN</td>\n",
       "      <td>NaN</td>\n",
       "    </tr>\n",
       "    <tr>\n",
       "      <th>50%</th>\n",
       "      <td>2018.000000</td>\n",
       "      <td>NaN</td>\n",
       "      <td>NaN</td>\n",
       "      <td>NaN</td>\n",
       "      <td>NaN</td>\n",
       "      <td>NaN</td>\n",
       "      <td>NaN</td>\n",
       "      <td>85.000000</td>\n",
       "      <td>989.000000</td>\n",
       "      <td>NaN</td>\n",
       "      <td>...</td>\n",
       "      <td>NaN</td>\n",
       "      <td>NaN</td>\n",
       "      <td>NaN</td>\n",
       "      <td>NaN</td>\n",
       "      <td>NaN</td>\n",
       "      <td>NaN</td>\n",
       "      <td>NaN</td>\n",
       "      <td>NaN</td>\n",
       "      <td>NaN</td>\n",
       "      <td>NaN</td>\n",
       "    </tr>\n",
       "    <tr>\n",
       "      <th>75%</th>\n",
       "      <td>2021.000000</td>\n",
       "      <td>NaN</td>\n",
       "      <td>NaN</td>\n",
       "      <td>NaN</td>\n",
       "      <td>NaN</td>\n",
       "      <td>NaN</td>\n",
       "      <td>NaN</td>\n",
       "      <td>120.000000</td>\n",
       "      <td>1000.000000</td>\n",
       "      <td>NaN</td>\n",
       "      <td>...</td>\n",
       "      <td>NaN</td>\n",
       "      <td>NaN</td>\n",
       "      <td>NaN</td>\n",
       "      <td>NaN</td>\n",
       "      <td>NaN</td>\n",
       "      <td>NaN</td>\n",
       "      <td>NaN</td>\n",
       "      <td>NaN</td>\n",
       "      <td>NaN</td>\n",
       "      <td>NaN</td>\n",
       "    </tr>\n",
       "    <tr>\n",
       "      <th>max</th>\n",
       "      <td>2021.000000</td>\n",
       "      <td>NaN</td>\n",
       "      <td>NaN</td>\n",
       "      <td>NaN</td>\n",
       "      <td>NaN</td>\n",
       "      <td>NaN</td>\n",
       "      <td>NaN</td>\n",
       "      <td>175.000000</td>\n",
       "      <td>1007.000000</td>\n",
       "      <td>NaN</td>\n",
       "      <td>...</td>\n",
       "      <td>NaN</td>\n",
       "      <td>NaN</td>\n",
       "      <td>NaN</td>\n",
       "      <td>NaN</td>\n",
       "      <td>NaN</td>\n",
       "      <td>NaN</td>\n",
       "      <td>NaN</td>\n",
       "      <td>NaN</td>\n",
       "      <td>NaN</td>\n",
       "      <td>NaN</td>\n",
       "    </tr>\n",
       "  </tbody>\n",
       "</table>\n",
       "<p>11 rows × 25 columns</p>\n",
       "</div>"
      ],
      "text/plain": [
       "               Year      Month                 Date      Time  \\\n",
       "count    171.000000         42                  172       172   \n",
       "unique          NaN          3                   71        17   \n",
       "top             NaN  September  2021-01-18 00:00:00  02:30:00   \n",
       "freq            NaN         25                    8        25   \n",
       "mean    2016.660819        NaN                  NaN       NaN   \n",
       "std        4.124766        NaN                  NaN       NaN   \n",
       "min     2009.000000        NaN                  NaN       NaN   \n",
       "25%     2013.000000        NaN                  NaN       NaN   \n",
       "50%     2018.000000        NaN                  NaN       NaN   \n",
       "75%     2021.000000        NaN                  NaN       NaN   \n",
       "max     2021.000000        NaN                  NaN       NaN   \n",
       "\n",
       "               CycloneName        TypeName Type  Wind(km/h)  Pressure(mb)  \\\n",
       "count                   42             172  170  172.000000    172.000000   \n",
       "unique                   3               4    4         NaN           NaN   \n",
       "top     Typhoon Malou 2021  TROPICAL STORM    S         NaN           NaN   \n",
       "freq                    25              53   53         NaN           NaN   \n",
       "mean                   NaN             NaN  NaN   93.866279    987.058140   \n",
       "std                    NaN             NaN  NaN   37.986911     14.509005   \n",
       "min                    NaN             NaN  NaN   35.000000    949.000000   \n",
       "25%                    NaN             NaN  NaN   60.000000    979.000000   \n",
       "50%                    NaN             NaN  NaN   85.000000    989.000000   \n",
       "75%                    NaN             NaN  NaN  120.000000   1000.000000   \n",
       "max                    NaN             NaN  NaN  175.000000   1007.000000   \n",
       "\n",
       "        Unnamed: 9  ...  Unnamed: 15  Unnamed: 16  Unnamed: 17  Unnamed: 18  \\\n",
       "count          0.0  ...          0.0          0.0          0.0          0.0   \n",
       "unique         NaN  ...          NaN          NaN          NaN          NaN   \n",
       "top            NaN  ...          NaN          NaN          NaN          NaN   \n",
       "freq           NaN  ...          NaN          NaN          NaN          NaN   \n",
       "mean           NaN  ...          NaN          NaN          NaN          NaN   \n",
       "std            NaN  ...          NaN          NaN          NaN          NaN   \n",
       "min            NaN  ...          NaN          NaN          NaN          NaN   \n",
       "25%            NaN  ...          NaN          NaN          NaN          NaN   \n",
       "50%            NaN  ...          NaN          NaN          NaN          NaN   \n",
       "75%            NaN  ...          NaN          NaN          NaN          NaN   \n",
       "max            NaN  ...          NaN          NaN          NaN          NaN   \n",
       "\n",
       "        Unnamed: 19  Unnamed: 20  Unnamed: 21  Unnamed: 22  Unnamed: 23  \\\n",
       "count           0.0          0.0          0.0          0.0          0.0   \n",
       "unique          NaN          NaN          NaN          NaN          NaN   \n",
       "top             NaN          NaN          NaN          NaN          NaN   \n",
       "freq            NaN          NaN          NaN          NaN          NaN   \n",
       "mean            NaN          NaN          NaN          NaN          NaN   \n",
       "std             NaN          NaN          NaN          NaN          NaN   \n",
       "min             NaN          NaN          NaN          NaN          NaN   \n",
       "25%             NaN          NaN          NaN          NaN          NaN   \n",
       "50%             NaN          NaN          NaN          NaN          NaN   \n",
       "75%             NaN          NaN          NaN          NaN          NaN   \n",
       "max             NaN          NaN          NaN          NaN          NaN   \n",
       "\n",
       "        Unnamed: 24  \n",
       "count           0.0  \n",
       "unique          NaN  \n",
       "top             NaN  \n",
       "freq            NaN  \n",
       "mean            NaN  \n",
       "std             NaN  \n",
       "min             NaN  \n",
       "25%             NaN  \n",
       "50%             NaN  \n",
       "75%             NaN  \n",
       "max             NaN  \n",
       "\n",
       "[11 rows x 25 columns]"
      ]
     },
     "execution_count": 44,
     "metadata": {},
     "output_type": "execute_result"
    }
   ],
   "source": [
    "cyc_df.describe(include='all')"
   ]
  },
  {
   "cell_type": "code",
   "execution_count": 6,
   "id": "116f3ae3",
   "metadata": {},
   "outputs": [
    {
     "data": {
      "text/html": [
       "<div>\n",
       "<style scoped>\n",
       "    .dataframe tbody tr th:only-of-type {\n",
       "        vertical-align: middle;\n",
       "    }\n",
       "\n",
       "    .dataframe tbody tr th {\n",
       "        vertical-align: top;\n",
       "    }\n",
       "\n",
       "    .dataframe thead th {\n",
       "        text-align: right;\n",
       "    }\n",
       "</style>\n",
       "<table border=\"1\" class=\"dataframe\">\n",
       "  <thead>\n",
       "    <tr style=\"text-align: right;\">\n",
       "      <th></th>\n",
       "      <th>Year</th>\n",
       "      <th>Month</th>\n",
       "      <th>Date</th>\n",
       "      <th>Time</th>\n",
       "      <th>CycloneName</th>\n",
       "      <th>TypeName</th>\n",
       "      <th>Type</th>\n",
       "      <th>Wind(km/h)</th>\n",
       "      <th>Pressure(mb)</th>\n",
       "      <th>Unnamed: 9</th>\n",
       "      <th>...</th>\n",
       "      <th>Unnamed: 15</th>\n",
       "      <th>Unnamed: 16</th>\n",
       "      <th>Unnamed: 17</th>\n",
       "      <th>Unnamed: 18</th>\n",
       "      <th>Unnamed: 19</th>\n",
       "      <th>Unnamed: 20</th>\n",
       "      <th>Unnamed: 21</th>\n",
       "      <th>Unnamed: 22</th>\n",
       "      <th>Unnamed: 23</th>\n",
       "      <th>Unnamed: 24</th>\n",
       "    </tr>\n",
       "  </thead>\n",
       "  <tbody>\n",
       "    <tr>\n",
       "      <th>0</th>\n",
       "      <td>2021.0</td>\n",
       "      <td>December</td>\n",
       "      <td>Dec 18</td>\n",
       "      <td>11:30</td>\n",
       "      <td>Typhoon Rai (Odette) 2021</td>\n",
       "      <td>Typhoon</td>\n",
       "      <td>T</td>\n",
       "      <td>170.0</td>\n",
       "      <td>962.0</td>\n",
       "      <td>NaN</td>\n",
       "      <td>...</td>\n",
       "      <td>NaN</td>\n",
       "      <td>NaN</td>\n",
       "      <td>NaN</td>\n",
       "      <td>NaN</td>\n",
       "      <td>NaN</td>\n",
       "      <td>NaN</td>\n",
       "      <td>NaN</td>\n",
       "      <td>NaN</td>\n",
       "      <td>NaN</td>\n",
       "      <td>NaN</td>\n",
       "    </tr>\n",
       "    <tr>\n",
       "      <th>1</th>\n",
       "      <td>2021.0</td>\n",
       "      <td>December</td>\n",
       "      <td>Dec 19</td>\n",
       "      <td>17:30</td>\n",
       "      <td>Typhoon Rai (Odette) 2021</td>\n",
       "      <td>Typhoon</td>\n",
       "      <td>T</td>\n",
       "      <td>165.0</td>\n",
       "      <td>957.0</td>\n",
       "      <td>NaN</td>\n",
       "      <td>...</td>\n",
       "      <td>NaN</td>\n",
       "      <td>NaN</td>\n",
       "      <td>NaN</td>\n",
       "      <td>NaN</td>\n",
       "      <td>NaN</td>\n",
       "      <td>NaN</td>\n",
       "      <td>NaN</td>\n",
       "      <td>NaN</td>\n",
       "      <td>NaN</td>\n",
       "      <td>NaN</td>\n",
       "    </tr>\n",
       "    <tr>\n",
       "      <th>2</th>\n",
       "      <td>2021.0</td>\n",
       "      <td>December</td>\n",
       "      <td>Dec 19</td>\n",
       "      <td>23:30</td>\n",
       "      <td>Typhoon Rai (Odette) 2021</td>\n",
       "      <td>Typhoon</td>\n",
       "      <td>T</td>\n",
       "      <td>170.0</td>\n",
       "      <td>962.0</td>\n",
       "      <td>NaN</td>\n",
       "      <td>...</td>\n",
       "      <td>NaN</td>\n",
       "      <td>NaN</td>\n",
       "      <td>NaN</td>\n",
       "      <td>NaN</td>\n",
       "      <td>NaN</td>\n",
       "      <td>NaN</td>\n",
       "      <td>NaN</td>\n",
       "      <td>NaN</td>\n",
       "      <td>NaN</td>\n",
       "      <td>NaN</td>\n",
       "    </tr>\n",
       "    <tr>\n",
       "      <th>3</th>\n",
       "      <td>2021.0</td>\n",
       "      <td>December</td>\n",
       "      <td>Dec 17</td>\n",
       "      <td>17:30</td>\n",
       "      <td>Typhoon Rai (Odette) 2021</td>\n",
       "      <td>Typhoon</td>\n",
       "      <td>T</td>\n",
       "      <td>175.0</td>\n",
       "      <td>963.0</td>\n",
       "      <td>NaN</td>\n",
       "      <td>...</td>\n",
       "      <td>NaN</td>\n",
       "      <td>NaN</td>\n",
       "      <td>NaN</td>\n",
       "      <td>NaN</td>\n",
       "      <td>NaN</td>\n",
       "      <td>NaN</td>\n",
       "      <td>NaN</td>\n",
       "      <td>NaN</td>\n",
       "      <td>NaN</td>\n",
       "      <td>NaN</td>\n",
       "    </tr>\n",
       "    <tr>\n",
       "      <th>4</th>\n",
       "      <td>2021.0</td>\n",
       "      <td>December</td>\n",
       "      <td>Dec 15</td>\n",
       "      <td>5:30</td>\n",
       "      <td>Typhoon Rai (Odette) 2021</td>\n",
       "      <td>Typhoon</td>\n",
       "      <td>T</td>\n",
       "      <td>120.0</td>\n",
       "      <td>985.0</td>\n",
       "      <td>NaN</td>\n",
       "      <td>...</td>\n",
       "      <td>NaN</td>\n",
       "      <td>NaN</td>\n",
       "      <td>NaN</td>\n",
       "      <td>NaN</td>\n",
       "      <td>NaN</td>\n",
       "      <td>NaN</td>\n",
       "      <td>NaN</td>\n",
       "      <td>NaN</td>\n",
       "      <td>NaN</td>\n",
       "      <td>NaN</td>\n",
       "    </tr>\n",
       "  </tbody>\n",
       "</table>\n",
       "<p>5 rows × 25 columns</p>\n",
       "</div>"
      ],
      "text/plain": [
       "     Year     Month    Date   Time                CycloneName TypeName Type  \\\n",
       "0  2021.0  December  Dec 18  11:30  Typhoon Rai (Odette) 2021  Typhoon    T   \n",
       "1  2021.0  December  Dec 19  17:30  Typhoon Rai (Odette) 2021  Typhoon    T   \n",
       "2  2021.0  December  Dec 19  23:30  Typhoon Rai (Odette) 2021  Typhoon    T   \n",
       "3  2021.0  December  Dec 17  17:30  Typhoon Rai (Odette) 2021  Typhoon    T   \n",
       "4  2021.0  December  Dec 15   5:30  Typhoon Rai (Odette) 2021  Typhoon    T   \n",
       "\n",
       "   Wind(km/h)  Pressure(mb)  Unnamed: 9  ...  Unnamed: 15  Unnamed: 16  \\\n",
       "0       170.0         962.0         NaN  ...          NaN          NaN   \n",
       "1       165.0         957.0         NaN  ...          NaN          NaN   \n",
       "2       170.0         962.0         NaN  ...          NaN          NaN   \n",
       "3       175.0         963.0         NaN  ...          NaN          NaN   \n",
       "4       120.0         985.0         NaN  ...          NaN          NaN   \n",
       "\n",
       "   Unnamed: 17  Unnamed: 18  Unnamed: 19  Unnamed: 20  Unnamed: 21  \\\n",
       "0          NaN          NaN          NaN          NaN          NaN   \n",
       "1          NaN          NaN          NaN          NaN          NaN   \n",
       "2          NaN          NaN          NaN          NaN          NaN   \n",
       "3          NaN          NaN          NaN          NaN          NaN   \n",
       "4          NaN          NaN          NaN          NaN          NaN   \n",
       "\n",
       "   Unnamed: 22  Unnamed: 23  Unnamed: 24  \n",
       "0          NaN          NaN          NaN  \n",
       "1          NaN          NaN          NaN  \n",
       "2          NaN          NaN          NaN  \n",
       "3          NaN          NaN          NaN  \n",
       "4          NaN          NaN          NaN  \n",
       "\n",
       "[5 rows x 25 columns]"
      ]
     },
     "execution_count": 6,
     "metadata": {},
     "output_type": "execute_result"
    }
   ],
   "source": [
    "cyc_df.head()"
   ]
  },
  {
   "cell_type": "code",
   "execution_count": 7,
   "id": "df65dd7d",
   "metadata": {},
   "outputs": [
    {
     "data": {
      "text/html": [
       "<div>\n",
       "<style scoped>\n",
       "    .dataframe tbody tr th:only-of-type {\n",
       "        vertical-align: middle;\n",
       "    }\n",
       "\n",
       "    .dataframe tbody tr th {\n",
       "        vertical-align: top;\n",
       "    }\n",
       "\n",
       "    .dataframe thead th {\n",
       "        text-align: right;\n",
       "    }\n",
       "</style>\n",
       "<table border=\"1\" class=\"dataframe\">\n",
       "  <thead>\n",
       "    <tr style=\"text-align: right;\">\n",
       "      <th></th>\n",
       "      <th>Year</th>\n",
       "      <th>Month</th>\n",
       "      <th>Date</th>\n",
       "      <th>Time</th>\n",
       "      <th>CycloneName</th>\n",
       "      <th>TypeName</th>\n",
       "      <th>Type</th>\n",
       "      <th>Wind(km/h)</th>\n",
       "      <th>Pressure(mb)</th>\n",
       "      <th>Unnamed: 9</th>\n",
       "      <th>...</th>\n",
       "      <th>Unnamed: 15</th>\n",
       "      <th>Unnamed: 16</th>\n",
       "      <th>Unnamed: 17</th>\n",
       "      <th>Unnamed: 18</th>\n",
       "      <th>Unnamed: 19</th>\n",
       "      <th>Unnamed: 20</th>\n",
       "      <th>Unnamed: 21</th>\n",
       "      <th>Unnamed: 22</th>\n",
       "      <th>Unnamed: 23</th>\n",
       "      <th>Unnamed: 24</th>\n",
       "    </tr>\n",
       "  </thead>\n",
       "  <tbody>\n",
       "    <tr>\n",
       "      <th>169</th>\n",
       "      <td>2021.0</td>\n",
       "      <td>NaN</td>\n",
       "      <td>2021-01-19 00:00:00</td>\n",
       "      <td>02:30:00</td>\n",
       "      <td>NaN</td>\n",
       "      <td>TROPICAL STORM</td>\n",
       "      <td>S</td>\n",
       "      <td>90.0</td>\n",
       "      <td>997.0</td>\n",
       "      <td>NaN</td>\n",
       "      <td>...</td>\n",
       "      <td>NaN</td>\n",
       "      <td>NaN</td>\n",
       "      <td>NaN</td>\n",
       "      <td>NaN</td>\n",
       "      <td>NaN</td>\n",
       "      <td>NaN</td>\n",
       "      <td>NaN</td>\n",
       "      <td>NaN</td>\n",
       "      <td>NaN</td>\n",
       "      <td>NaN</td>\n",
       "    </tr>\n",
       "    <tr>\n",
       "      <th>170</th>\n",
       "      <td>2021.0</td>\n",
       "      <td>NaN</td>\n",
       "      <td>2021-01-19 00:00:00</td>\n",
       "      <td>02:30:00</td>\n",
       "      <td>NaN</td>\n",
       "      <td>TROPICAL STORM</td>\n",
       "      <td>S</td>\n",
       "      <td>90.0</td>\n",
       "      <td>996.0</td>\n",
       "      <td>NaN</td>\n",
       "      <td>...</td>\n",
       "      <td>NaN</td>\n",
       "      <td>NaN</td>\n",
       "      <td>NaN</td>\n",
       "      <td>NaN</td>\n",
       "      <td>NaN</td>\n",
       "      <td>NaN</td>\n",
       "      <td>NaN</td>\n",
       "      <td>NaN</td>\n",
       "      <td>NaN</td>\n",
       "      <td>NaN</td>\n",
       "    </tr>\n",
       "    <tr>\n",
       "      <th>171</th>\n",
       "      <td>2021.0</td>\n",
       "      <td>NaN</td>\n",
       "      <td>2021-01-20 00:00:00</td>\n",
       "      <td>02:30:00</td>\n",
       "      <td>NaN</td>\n",
       "      <td>TROPICAL STORM</td>\n",
       "      <td>S</td>\n",
       "      <td>80.0</td>\n",
       "      <td>996.0</td>\n",
       "      <td>NaN</td>\n",
       "      <td>...</td>\n",
       "      <td>NaN</td>\n",
       "      <td>NaN</td>\n",
       "      <td>NaN</td>\n",
       "      <td>NaN</td>\n",
       "      <td>NaN</td>\n",
       "      <td>NaN</td>\n",
       "      <td>NaN</td>\n",
       "      <td>NaN</td>\n",
       "      <td>NaN</td>\n",
       "      <td>NaN</td>\n",
       "    </tr>\n",
       "    <tr>\n",
       "      <th>172</th>\n",
       "      <td>2021.0</td>\n",
       "      <td>NaN</td>\n",
       "      <td>2021-01-20 00:00:00</td>\n",
       "      <td>05:30:00</td>\n",
       "      <td>NaN</td>\n",
       "      <td>TROPICAL STORM</td>\n",
       "      <td>S</td>\n",
       "      <td>65.0</td>\n",
       "      <td>1000.0</td>\n",
       "      <td>NaN</td>\n",
       "      <td>...</td>\n",
       "      <td>NaN</td>\n",
       "      <td>NaN</td>\n",
       "      <td>NaN</td>\n",
       "      <td>NaN</td>\n",
       "      <td>NaN</td>\n",
       "      <td>NaN</td>\n",
       "      <td>NaN</td>\n",
       "      <td>NaN</td>\n",
       "      <td>NaN</td>\n",
       "      <td>NaN</td>\n",
       "    </tr>\n",
       "    <tr>\n",
       "      <th>173</th>\n",
       "      <td>2021.0</td>\n",
       "      <td>NaN</td>\n",
       "      <td>2021-01-21 00:00:00</td>\n",
       "      <td>05:30:00</td>\n",
       "      <td>NaN</td>\n",
       "      <td>TROPICAL STORM</td>\n",
       "      <td>S</td>\n",
       "      <td>85.0</td>\n",
       "      <td>999.0</td>\n",
       "      <td>NaN</td>\n",
       "      <td>...</td>\n",
       "      <td>NaN</td>\n",
       "      <td>NaN</td>\n",
       "      <td>NaN</td>\n",
       "      <td>NaN</td>\n",
       "      <td>NaN</td>\n",
       "      <td>NaN</td>\n",
       "      <td>NaN</td>\n",
       "      <td>NaN</td>\n",
       "      <td>NaN</td>\n",
       "      <td>NaN</td>\n",
       "    </tr>\n",
       "  </tbody>\n",
       "</table>\n",
       "<p>5 rows × 25 columns</p>\n",
       "</div>"
      ],
      "text/plain": [
       "       Year Month                 Date      Time CycloneName        TypeName  \\\n",
       "169  2021.0   NaN  2021-01-19 00:00:00  02:30:00         NaN  TROPICAL STORM   \n",
       "170  2021.0   NaN  2021-01-19 00:00:00  02:30:00         NaN  TROPICAL STORM   \n",
       "171  2021.0   NaN  2021-01-20 00:00:00  02:30:00         NaN  TROPICAL STORM   \n",
       "172  2021.0   NaN  2021-01-20 00:00:00  05:30:00         NaN  TROPICAL STORM   \n",
       "173  2021.0   NaN  2021-01-21 00:00:00  05:30:00         NaN  TROPICAL STORM   \n",
       "\n",
       "    Type  Wind(km/h)  Pressure(mb)  Unnamed: 9  ...  Unnamed: 15  Unnamed: 16  \\\n",
       "169    S        90.0         997.0         NaN  ...          NaN          NaN   \n",
       "170    S        90.0         996.0         NaN  ...          NaN          NaN   \n",
       "171    S        80.0         996.0         NaN  ...          NaN          NaN   \n",
       "172    S        65.0        1000.0         NaN  ...          NaN          NaN   \n",
       "173    S        85.0         999.0         NaN  ...          NaN          NaN   \n",
       "\n",
       "     Unnamed: 17  Unnamed: 18  Unnamed: 19  Unnamed: 20  Unnamed: 21  \\\n",
       "169          NaN          NaN          NaN          NaN          NaN   \n",
       "170          NaN          NaN          NaN          NaN          NaN   \n",
       "171          NaN          NaN          NaN          NaN          NaN   \n",
       "172          NaN          NaN          NaN          NaN          NaN   \n",
       "173          NaN          NaN          NaN          NaN          NaN   \n",
       "\n",
       "     Unnamed: 22  Unnamed: 23  Unnamed: 24  \n",
       "169          NaN          NaN          NaN  \n",
       "170          NaN          NaN          NaN  \n",
       "171          NaN          NaN          NaN  \n",
       "172          NaN          NaN          NaN  \n",
       "173          NaN          NaN          NaN  \n",
       "\n",
       "[5 rows x 25 columns]"
      ]
     },
     "execution_count": 7,
     "metadata": {},
     "output_type": "execute_result"
    }
   ],
   "source": [
    "cyc_df.tail()"
   ]
  },
  {
   "cell_type": "code",
   "execution_count": 8,
   "id": "6a8cf835",
   "metadata": {},
   "outputs": [
    {
     "data": {
      "text/plain": [
       "Year            float64\n",
       "Month            object\n",
       "Date             object\n",
       "Time             object\n",
       "CycloneName      object\n",
       "TypeName         object\n",
       "Type             object\n",
       "Wind(km/h)      float64\n",
       "Pressure(mb)    float64\n",
       "Unnamed: 9      float64\n",
       "Unnamed: 10     float64\n",
       "Unnamed: 11     float64\n",
       "Unnamed: 12     float64\n",
       "Unnamed: 13     float64\n",
       "Unnamed: 14     float64\n",
       "Unnamed: 15     float64\n",
       "Unnamed: 16     float64\n",
       "Unnamed: 17     float64\n",
       "Unnamed: 18     float64\n",
       "Unnamed: 19     float64\n",
       "Unnamed: 20     float64\n",
       "Unnamed: 21     float64\n",
       "Unnamed: 22     float64\n",
       "Unnamed: 23     float64\n",
       "Unnamed: 24     float64\n",
       "dtype: object"
      ]
     },
     "execution_count": 8,
     "metadata": {},
     "output_type": "execute_result"
    }
   ],
   "source": [
    "cyc_df.dtypes"
   ]
  },
  {
   "cell_type": "code",
   "execution_count": 9,
   "id": "e814b329",
   "metadata": {
    "scrolled": true
   },
   "outputs": [
    {
     "data": {
      "text/plain": [
       "S     53\n",
       "D     50\n",
       "T     40\n",
       "SS    27\n",
       "Name: Type, dtype: int64"
      ]
     },
     "execution_count": 9,
     "metadata": {},
     "output_type": "execute_result"
    }
   ],
   "source": [
    "cyc_df.Type.value_counts()"
   ]
  },
  {
   "cell_type": "code",
   "execution_count": 10,
   "id": "654972bf",
   "metadata": {},
   "outputs": [
    {
     "data": {
      "text/html": [
       "<div>\n",
       "<style scoped>\n",
       "    .dataframe tbody tr th:only-of-type {\n",
       "        vertical-align: middle;\n",
       "    }\n",
       "\n",
       "    .dataframe tbody tr th {\n",
       "        vertical-align: top;\n",
       "    }\n",
       "\n",
       "    .dataframe thead th {\n",
       "        text-align: right;\n",
       "    }\n",
       "</style>\n",
       "<table border=\"1\" class=\"dataframe\">\n",
       "  <thead>\n",
       "    <tr style=\"text-align: right;\">\n",
       "      <th></th>\n",
       "      <th>Year</th>\n",
       "      <th>TypeName</th>\n",
       "      <th>Wind(km/h)</th>\n",
       "      <th>Pressure(mb)</th>\n",
       "      <th>Unnamed: 9</th>\n",
       "      <th>Unnamed: 10</th>\n",
       "      <th>Unnamed: 11</th>\n",
       "      <th>Unnamed: 12</th>\n",
       "      <th>Unnamed: 13</th>\n",
       "      <th>Unnamed: 14</th>\n",
       "      <th>Unnamed: 15</th>\n",
       "      <th>Unnamed: 16</th>\n",
       "      <th>Unnamed: 17</th>\n",
       "      <th>Unnamed: 18</th>\n",
       "      <th>Unnamed: 19</th>\n",
       "      <th>Unnamed: 20</th>\n",
       "      <th>Unnamed: 21</th>\n",
       "      <th>Unnamed: 22</th>\n",
       "      <th>Unnamed: 23</th>\n",
       "      <th>Unnamed: 24</th>\n",
       "    </tr>\n",
       "  </thead>\n",
       "  <tbody>\n",
       "    <tr>\n",
       "      <th>0</th>\n",
       "      <td>2021.0</td>\n",
       "      <td>Typhoon</td>\n",
       "      <td>170.0</td>\n",
       "      <td>962.0</td>\n",
       "      <td>NaN</td>\n",
       "      <td>NaN</td>\n",
       "      <td>NaN</td>\n",
       "      <td>NaN</td>\n",
       "      <td>NaN</td>\n",
       "      <td>NaN</td>\n",
       "      <td>NaN</td>\n",
       "      <td>NaN</td>\n",
       "      <td>NaN</td>\n",
       "      <td>NaN</td>\n",
       "      <td>NaN</td>\n",
       "      <td>NaN</td>\n",
       "      <td>NaN</td>\n",
       "      <td>NaN</td>\n",
       "      <td>NaN</td>\n",
       "      <td>NaN</td>\n",
       "    </tr>\n",
       "    <tr>\n",
       "      <th>1</th>\n",
       "      <td>2021.0</td>\n",
       "      <td>Typhoon</td>\n",
       "      <td>165.0</td>\n",
       "      <td>957.0</td>\n",
       "      <td>NaN</td>\n",
       "      <td>NaN</td>\n",
       "      <td>NaN</td>\n",
       "      <td>NaN</td>\n",
       "      <td>NaN</td>\n",
       "      <td>NaN</td>\n",
       "      <td>NaN</td>\n",
       "      <td>NaN</td>\n",
       "      <td>NaN</td>\n",
       "      <td>NaN</td>\n",
       "      <td>NaN</td>\n",
       "      <td>NaN</td>\n",
       "      <td>NaN</td>\n",
       "      <td>NaN</td>\n",
       "      <td>NaN</td>\n",
       "      <td>NaN</td>\n",
       "    </tr>\n",
       "    <tr>\n",
       "      <th>2</th>\n",
       "      <td>2021.0</td>\n",
       "      <td>Typhoon</td>\n",
       "      <td>170.0</td>\n",
       "      <td>962.0</td>\n",
       "      <td>NaN</td>\n",
       "      <td>NaN</td>\n",
       "      <td>NaN</td>\n",
       "      <td>NaN</td>\n",
       "      <td>NaN</td>\n",
       "      <td>NaN</td>\n",
       "      <td>NaN</td>\n",
       "      <td>NaN</td>\n",
       "      <td>NaN</td>\n",
       "      <td>NaN</td>\n",
       "      <td>NaN</td>\n",
       "      <td>NaN</td>\n",
       "      <td>NaN</td>\n",
       "      <td>NaN</td>\n",
       "      <td>NaN</td>\n",
       "      <td>NaN</td>\n",
       "    </tr>\n",
       "    <tr>\n",
       "      <th>3</th>\n",
       "      <td>2021.0</td>\n",
       "      <td>Typhoon</td>\n",
       "      <td>175.0</td>\n",
       "      <td>963.0</td>\n",
       "      <td>NaN</td>\n",
       "      <td>NaN</td>\n",
       "      <td>NaN</td>\n",
       "      <td>NaN</td>\n",
       "      <td>NaN</td>\n",
       "      <td>NaN</td>\n",
       "      <td>NaN</td>\n",
       "      <td>NaN</td>\n",
       "      <td>NaN</td>\n",
       "      <td>NaN</td>\n",
       "      <td>NaN</td>\n",
       "      <td>NaN</td>\n",
       "      <td>NaN</td>\n",
       "      <td>NaN</td>\n",
       "      <td>NaN</td>\n",
       "      <td>NaN</td>\n",
       "    </tr>\n",
       "    <tr>\n",
       "      <th>4</th>\n",
       "      <td>2021.0</td>\n",
       "      <td>Typhoon</td>\n",
       "      <td>120.0</td>\n",
       "      <td>985.0</td>\n",
       "      <td>NaN</td>\n",
       "      <td>NaN</td>\n",
       "      <td>NaN</td>\n",
       "      <td>NaN</td>\n",
       "      <td>NaN</td>\n",
       "      <td>NaN</td>\n",
       "      <td>NaN</td>\n",
       "      <td>NaN</td>\n",
       "      <td>NaN</td>\n",
       "      <td>NaN</td>\n",
       "      <td>NaN</td>\n",
       "      <td>NaN</td>\n",
       "      <td>NaN</td>\n",
       "      <td>NaN</td>\n",
       "      <td>NaN</td>\n",
       "      <td>NaN</td>\n",
       "    </tr>\n",
       "  </tbody>\n",
       "</table>\n",
       "</div>"
      ],
      "text/plain": [
       "     Year TypeName  Wind(km/h)  Pressure(mb)  Unnamed: 9  Unnamed: 10  \\\n",
       "0  2021.0  Typhoon       170.0         962.0         NaN          NaN   \n",
       "1  2021.0  Typhoon       165.0         957.0         NaN          NaN   \n",
       "2  2021.0  Typhoon       170.0         962.0         NaN          NaN   \n",
       "3  2021.0  Typhoon       175.0         963.0         NaN          NaN   \n",
       "4  2021.0  Typhoon       120.0         985.0         NaN          NaN   \n",
       "\n",
       "   Unnamed: 11  Unnamed: 12  Unnamed: 13  Unnamed: 14  Unnamed: 15  \\\n",
       "0          NaN          NaN          NaN          NaN          NaN   \n",
       "1          NaN          NaN          NaN          NaN          NaN   \n",
       "2          NaN          NaN          NaN          NaN          NaN   \n",
       "3          NaN          NaN          NaN          NaN          NaN   \n",
       "4          NaN          NaN          NaN          NaN          NaN   \n",
       "\n",
       "   Unnamed: 16  Unnamed: 17  Unnamed: 18  Unnamed: 19  Unnamed: 20  \\\n",
       "0          NaN          NaN          NaN          NaN          NaN   \n",
       "1          NaN          NaN          NaN          NaN          NaN   \n",
       "2          NaN          NaN          NaN          NaN          NaN   \n",
       "3          NaN          NaN          NaN          NaN          NaN   \n",
       "4          NaN          NaN          NaN          NaN          NaN   \n",
       "\n",
       "   Unnamed: 21  Unnamed: 22  Unnamed: 23  Unnamed: 24  \n",
       "0          NaN          NaN          NaN          NaN  \n",
       "1          NaN          NaN          NaN          NaN  \n",
       "2          NaN          NaN          NaN          NaN  \n",
       "3          NaN          NaN          NaN          NaN  \n",
       "4          NaN          NaN          NaN          NaN  "
      ]
     },
     "execution_count": 10,
     "metadata": {},
     "output_type": "execute_result"
    }
   ],
   "source": [
    "# delete a unnecessary columns with respect to  target value cycloneType/cyclone Type NAME\n",
    "cyc_df = cyc_df.drop(columns = ['CycloneName','Month','Date','Time','Type'])\n",
    "cyc_df.head()"
   ]
  },
  {
   "cell_type": "code",
   "execution_count": 11,
   "id": "12163aee",
   "metadata": {},
   "outputs": [],
   "source": [
    "#df_slovakia=df[(df['location']=='Slovakia')]"
   ]
  },
  {
   "cell_type": "code",
   "execution_count": 12,
   "id": "3279de77",
   "metadata": {},
   "outputs": [
    {
     "data": {
      "text/plain": [
       "array(['Typhoon', 'TROPICAL DEPRESSION', nan, 'SEVERE TROPICAL STORM',\n",
       "       'TROPICAL STORM'], dtype=object)"
      ]
     },
     "execution_count": 12,
     "metadata": {},
     "output_type": "execute_result"
    }
   ],
   "source": [
    "cyc_df.TypeName.unique()"
   ]
  },
  {
   "cell_type": "markdown",
   "id": "7909f913",
   "metadata": {},
   "source": [
    "In this excel file cyclone data are classified as\n",
    "1.Tropical Depression\n",
    "2.Tropical Storm \n",
    "3.Typhoon \n",
    "4.SEVERE TROPICAL STORM"
   ]
  },
  {
   "cell_type": "code",
   "execution_count": 13,
   "id": "c06f1da7",
   "metadata": {},
   "outputs": [
    {
     "data": {
      "text/plain": [
       "43     2009.0\n",
       "122    2009.0\n",
       "121    2009.0\n",
       "93     2009.0\n",
       "47     2009.0\n",
       "        ...  \n",
       "119    2021.0\n",
       "173    2021.0\n",
       "41        NaN\n",
       "92        NaN\n",
       "120       NaN\n",
       "Name: Year, Length: 174, dtype: float64"
      ]
     },
     "execution_count": 13,
     "metadata": {},
     "output_type": "execute_result"
    }
   ],
   "source": [
    "#cyc_df.Year.sort()\n",
    "cyc_df.Year.sort_values()"
   ]
  },
  {
   "cell_type": "code",
   "execution_count": 14,
   "id": "68142e2b",
   "metadata": {},
   "outputs": [
    {
     "data": {
      "text/plain": [
       "array([2021.,   nan, 2009., 2010., 2011., 2012., 2013., 2015., 2016.,\n",
       "       2017., 2018., 2019., 2020., 2014.])"
      ]
     },
     "execution_count": 14,
     "metadata": {},
     "output_type": "execute_result"
    }
   ],
   "source": [
    "cyc_df.Year.unique()\n",
    "#years are 2009 - 2021"
   ]
  },
  {
   "cell_type": "code",
   "execution_count": 15,
   "id": "990e1a83",
   "metadata": {},
   "outputs": [
    {
     "data": {
      "text/plain": [
       "Year            float64\n",
       "TypeName         object\n",
       "Wind(km/h)      float64\n",
       "Pressure(mb)    float64\n",
       "Unnamed: 9      float64\n",
       "Unnamed: 10     float64\n",
       "Unnamed: 11     float64\n",
       "Unnamed: 12     float64\n",
       "Unnamed: 13     float64\n",
       "Unnamed: 14     float64\n",
       "Unnamed: 15     float64\n",
       "Unnamed: 16     float64\n",
       "Unnamed: 17     float64\n",
       "Unnamed: 18     float64\n",
       "Unnamed: 19     float64\n",
       "Unnamed: 20     float64\n",
       "Unnamed: 21     float64\n",
       "Unnamed: 22     float64\n",
       "Unnamed: 23     float64\n",
       "Unnamed: 24     float64\n",
       "dtype: object"
      ]
     },
     "execution_count": 15,
     "metadata": {},
     "output_type": "execute_result"
    }
   ],
   "source": [
    "cyc_df.dtypes"
   ]
  },
  {
   "cell_type": "code",
   "execution_count": 16,
   "id": "1da487ba",
   "metadata": {},
   "outputs": [
    {
     "data": {
      "text/html": [
       "<div>\n",
       "<style scoped>\n",
       "    .dataframe tbody tr th:only-of-type {\n",
       "        vertical-align: middle;\n",
       "    }\n",
       "\n",
       "    .dataframe tbody tr th {\n",
       "        vertical-align: top;\n",
       "    }\n",
       "\n",
       "    .dataframe thead th {\n",
       "        text-align: right;\n",
       "    }\n",
       "</style>\n",
       "<table border=\"1\" class=\"dataframe\">\n",
       "  <thead>\n",
       "    <tr style=\"text-align: right;\">\n",
       "      <th></th>\n",
       "      <th>Year</th>\n",
       "      <th>TypeName</th>\n",
       "      <th>Wind(km/h)</th>\n",
       "      <th>Pressure(mb)</th>\n",
       "      <th>Unnamed: 9</th>\n",
       "      <th>Unnamed: 10</th>\n",
       "      <th>Unnamed: 11</th>\n",
       "      <th>Unnamed: 12</th>\n",
       "      <th>Unnamed: 13</th>\n",
       "      <th>Unnamed: 14</th>\n",
       "      <th>Unnamed: 15</th>\n",
       "      <th>Unnamed: 16</th>\n",
       "      <th>Unnamed: 17</th>\n",
       "      <th>Unnamed: 18</th>\n",
       "      <th>Unnamed: 19</th>\n",
       "      <th>Unnamed: 20</th>\n",
       "      <th>Unnamed: 21</th>\n",
       "      <th>Unnamed: 22</th>\n",
       "      <th>Unnamed: 23</th>\n",
       "      <th>Unnamed: 24</th>\n",
       "    </tr>\n",
       "  </thead>\n",
       "  <tbody>\n",
       "    <tr>\n",
       "      <th>0</th>\n",
       "      <td>2021.0</td>\n",
       "      <td>Typhoon</td>\n",
       "      <td>170.0</td>\n",
       "      <td>962.0</td>\n",
       "      <td>NaN</td>\n",
       "      <td>NaN</td>\n",
       "      <td>NaN</td>\n",
       "      <td>NaN</td>\n",
       "      <td>NaN</td>\n",
       "      <td>NaN</td>\n",
       "      <td>NaN</td>\n",
       "      <td>NaN</td>\n",
       "      <td>NaN</td>\n",
       "      <td>NaN</td>\n",
       "      <td>NaN</td>\n",
       "      <td>NaN</td>\n",
       "      <td>NaN</td>\n",
       "      <td>NaN</td>\n",
       "      <td>NaN</td>\n",
       "      <td>NaN</td>\n",
       "    </tr>\n",
       "    <tr>\n",
       "      <th>1</th>\n",
       "      <td>2021.0</td>\n",
       "      <td>Typhoon</td>\n",
       "      <td>165.0</td>\n",
       "      <td>957.0</td>\n",
       "      <td>NaN</td>\n",
       "      <td>NaN</td>\n",
       "      <td>NaN</td>\n",
       "      <td>NaN</td>\n",
       "      <td>NaN</td>\n",
       "      <td>NaN</td>\n",
       "      <td>NaN</td>\n",
       "      <td>NaN</td>\n",
       "      <td>NaN</td>\n",
       "      <td>NaN</td>\n",
       "      <td>NaN</td>\n",
       "      <td>NaN</td>\n",
       "      <td>NaN</td>\n",
       "      <td>NaN</td>\n",
       "      <td>NaN</td>\n",
       "      <td>NaN</td>\n",
       "    </tr>\n",
       "    <tr>\n",
       "      <th>2</th>\n",
       "      <td>2021.0</td>\n",
       "      <td>Typhoon</td>\n",
       "      <td>170.0</td>\n",
       "      <td>962.0</td>\n",
       "      <td>NaN</td>\n",
       "      <td>NaN</td>\n",
       "      <td>NaN</td>\n",
       "      <td>NaN</td>\n",
       "      <td>NaN</td>\n",
       "      <td>NaN</td>\n",
       "      <td>NaN</td>\n",
       "      <td>NaN</td>\n",
       "      <td>NaN</td>\n",
       "      <td>NaN</td>\n",
       "      <td>NaN</td>\n",
       "      <td>NaN</td>\n",
       "      <td>NaN</td>\n",
       "      <td>NaN</td>\n",
       "      <td>NaN</td>\n",
       "      <td>NaN</td>\n",
       "    </tr>\n",
       "    <tr>\n",
       "      <th>3</th>\n",
       "      <td>2021.0</td>\n",
       "      <td>Typhoon</td>\n",
       "      <td>175.0</td>\n",
       "      <td>963.0</td>\n",
       "      <td>NaN</td>\n",
       "      <td>NaN</td>\n",
       "      <td>NaN</td>\n",
       "      <td>NaN</td>\n",
       "      <td>NaN</td>\n",
       "      <td>NaN</td>\n",
       "      <td>NaN</td>\n",
       "      <td>NaN</td>\n",
       "      <td>NaN</td>\n",
       "      <td>NaN</td>\n",
       "      <td>NaN</td>\n",
       "      <td>NaN</td>\n",
       "      <td>NaN</td>\n",
       "      <td>NaN</td>\n",
       "      <td>NaN</td>\n",
       "      <td>NaN</td>\n",
       "    </tr>\n",
       "    <tr>\n",
       "      <th>4</th>\n",
       "      <td>2021.0</td>\n",
       "      <td>Typhoon</td>\n",
       "      <td>120.0</td>\n",
       "      <td>985.0</td>\n",
       "      <td>NaN</td>\n",
       "      <td>NaN</td>\n",
       "      <td>NaN</td>\n",
       "      <td>NaN</td>\n",
       "      <td>NaN</td>\n",
       "      <td>NaN</td>\n",
       "      <td>NaN</td>\n",
       "      <td>NaN</td>\n",
       "      <td>NaN</td>\n",
       "      <td>NaN</td>\n",
       "      <td>NaN</td>\n",
       "      <td>NaN</td>\n",
       "      <td>NaN</td>\n",
       "      <td>NaN</td>\n",
       "      <td>NaN</td>\n",
       "      <td>NaN</td>\n",
       "    </tr>\n",
       "  </tbody>\n",
       "</table>\n",
       "</div>"
      ],
      "text/plain": [
       "     Year TypeName  Wind(km/h)  Pressure(mb)  Unnamed: 9  Unnamed: 10  \\\n",
       "0  2021.0  Typhoon       170.0         962.0         NaN          NaN   \n",
       "1  2021.0  Typhoon       165.0         957.0         NaN          NaN   \n",
       "2  2021.0  Typhoon       170.0         962.0         NaN          NaN   \n",
       "3  2021.0  Typhoon       175.0         963.0         NaN          NaN   \n",
       "4  2021.0  Typhoon       120.0         985.0         NaN          NaN   \n",
       "\n",
       "   Unnamed: 11  Unnamed: 12  Unnamed: 13  Unnamed: 14  Unnamed: 15  \\\n",
       "0          NaN          NaN          NaN          NaN          NaN   \n",
       "1          NaN          NaN          NaN          NaN          NaN   \n",
       "2          NaN          NaN          NaN          NaN          NaN   \n",
       "3          NaN          NaN          NaN          NaN          NaN   \n",
       "4          NaN          NaN          NaN          NaN          NaN   \n",
       "\n",
       "   Unnamed: 16  Unnamed: 17  Unnamed: 18  Unnamed: 19  Unnamed: 20  \\\n",
       "0          NaN          NaN          NaN          NaN          NaN   \n",
       "1          NaN          NaN          NaN          NaN          NaN   \n",
       "2          NaN          NaN          NaN          NaN          NaN   \n",
       "3          NaN          NaN          NaN          NaN          NaN   \n",
       "4          NaN          NaN          NaN          NaN          NaN   \n",
       "\n",
       "   Unnamed: 21  Unnamed: 22  Unnamed: 23  Unnamed: 24  \n",
       "0          NaN          NaN          NaN          NaN  \n",
       "1          NaN          NaN          NaN          NaN  \n",
       "2          NaN          NaN          NaN          NaN  \n",
       "3          NaN          NaN          NaN          NaN  \n",
       "4          NaN          NaN          NaN          NaN  "
      ]
     },
     "execution_count": 16,
     "metadata": {},
     "output_type": "execute_result"
    }
   ],
   "source": [
    "cyc_df.head()"
   ]
  },
  {
   "cell_type": "code",
   "execution_count": 17,
   "id": "df0390fb",
   "metadata": {},
   "outputs": [
    {
     "data": {
      "text/plain": [
       "Year            float64\n",
       "TypeName         object\n",
       "Wind(km/h)      float64\n",
       "Pressure(mb)    float64\n",
       "Unnamed: 9      float64\n",
       "Unnamed: 10     float64\n",
       "Unnamed: 11     float64\n",
       "Unnamed: 12     float64\n",
       "Unnamed: 13     float64\n",
       "Unnamed: 14     float64\n",
       "Unnamed: 15     float64\n",
       "Unnamed: 16     float64\n",
       "Unnamed: 17     float64\n",
       "Unnamed: 18     float64\n",
       "Unnamed: 19     float64\n",
       "Unnamed: 20     float64\n",
       "Unnamed: 21     float64\n",
       "Unnamed: 22     float64\n",
       "Unnamed: 23     float64\n",
       "Unnamed: 24     float64\n",
       "dtype: object"
      ]
     },
     "execution_count": 17,
     "metadata": {},
     "output_type": "execute_result"
    }
   ],
   "source": [
    "cyc_df.dtypes\n",
    "#cyc_df.Year = pd.to_datetime(cyc_df.Year ,format='%Y')\n",
    "# pd.to_datetime(df.Year, format='%Y')"
   ]
  },
  {
   "cell_type": "code",
   "execution_count": 18,
   "id": "34a8fa31",
   "metadata": {},
   "outputs": [
    {
     "data": {
      "text/plain": [
       "Year            float64\n",
       "TypeName         object\n",
       "Wind(km/h)      float64\n",
       "Pressure(mb)    float64\n",
       "Unnamed: 9      float64\n",
       "Unnamed: 10     float64\n",
       "Unnamed: 11     float64\n",
       "Unnamed: 12     float64\n",
       "Unnamed: 13     float64\n",
       "Unnamed: 14     float64\n",
       "Unnamed: 15     float64\n",
       "Unnamed: 16     float64\n",
       "Unnamed: 17     float64\n",
       "Unnamed: 18     float64\n",
       "Unnamed: 19     float64\n",
       "Unnamed: 20     float64\n",
       "Unnamed: 21     float64\n",
       "Unnamed: 22     float64\n",
       "Unnamed: 23     float64\n",
       "Unnamed: 24     float64\n",
       "dtype: object"
      ]
     },
     "execution_count": 18,
     "metadata": {},
     "output_type": "execute_result"
    }
   ],
   "source": [
    "cyc_df.dtypes"
   ]
  },
  {
   "cell_type": "code",
   "execution_count": 19,
   "id": "c7c5c49c",
   "metadata": {},
   "outputs": [
    {
     "data": {
      "text/plain": [
       "Year              3\n",
       "TypeName          2\n",
       "Wind(km/h)        2\n",
       "Pressure(mb)      2\n",
       "Unnamed: 9      174\n",
       "Unnamed: 10     174\n",
       "Unnamed: 11     174\n",
       "Unnamed: 12     174\n",
       "Unnamed: 13     174\n",
       "Unnamed: 14     174\n",
       "Unnamed: 15     174\n",
       "Unnamed: 16     174\n",
       "Unnamed: 17     174\n",
       "Unnamed: 18     174\n",
       "Unnamed: 19     174\n",
       "Unnamed: 20     174\n",
       "Unnamed: 21     174\n",
       "Unnamed: 22     174\n",
       "Unnamed: 23     174\n",
       "Unnamed: 24     174\n",
       "dtype: int64"
      ]
     },
     "execution_count": 19,
     "metadata": {},
     "output_type": "execute_result"
    }
   ],
   "source": [
    "cyc_df.isnull().sum()"
   ]
  },
  {
   "cell_type": "code",
   "execution_count": 20,
   "id": "f8b1f7f7",
   "metadata": {},
   "outputs": [],
   "source": [
    "#df.dropna(),missing values\n",
    "cyc_df.dropna(inplace=True)\n",
    "#df.dropna(how='any',axis=0)"
   ]
  },
  {
   "cell_type": "code",
   "execution_count": 21,
   "id": "07d4ef17",
   "metadata": {},
   "outputs": [
    {
     "data": {
      "text/plain": [
       "Year            0.0\n",
       "TypeName        0.0\n",
       "Wind(km/h)      0.0\n",
       "Pressure(mb)    0.0\n",
       "Unnamed: 9      0.0\n",
       "Unnamed: 10     0.0\n",
       "Unnamed: 11     0.0\n",
       "Unnamed: 12     0.0\n",
       "Unnamed: 13     0.0\n",
       "Unnamed: 14     0.0\n",
       "Unnamed: 15     0.0\n",
       "Unnamed: 16     0.0\n",
       "Unnamed: 17     0.0\n",
       "Unnamed: 18     0.0\n",
       "Unnamed: 19     0.0\n",
       "Unnamed: 20     0.0\n",
       "Unnamed: 21     0.0\n",
       "Unnamed: 22     0.0\n",
       "Unnamed: 23     0.0\n",
       "Unnamed: 24     0.0\n",
       "dtype: float64"
      ]
     },
     "execution_count": 21,
     "metadata": {},
     "output_type": "execute_result"
    }
   ],
   "source": [
    "cyc_df.isnull().sum()"
   ]
  },
  {
   "cell_type": "code",
   "execution_count": 22,
   "id": "59aa3d51",
   "metadata": {},
   "outputs": [
    {
     "data": {
      "text/plain": [
       "Year            float64\n",
       "TypeName         object\n",
       "Wind(km/h)      float64\n",
       "Pressure(mb)    float64\n",
       "Unnamed: 9      float64\n",
       "Unnamed: 10     float64\n",
       "Unnamed: 11     float64\n",
       "Unnamed: 12     float64\n",
       "Unnamed: 13     float64\n",
       "Unnamed: 14     float64\n",
       "Unnamed: 15     float64\n",
       "Unnamed: 16     float64\n",
       "Unnamed: 17     float64\n",
       "Unnamed: 18     float64\n",
       "Unnamed: 19     float64\n",
       "Unnamed: 20     float64\n",
       "Unnamed: 21     float64\n",
       "Unnamed: 22     float64\n",
       "Unnamed: 23     float64\n",
       "Unnamed: 24     float64\n",
       "dtype: object"
      ]
     },
     "execution_count": 22,
     "metadata": {},
     "output_type": "execute_result"
    }
   ],
   "source": [
    "cyc_df.dtypes"
   ]
  },
  {
   "cell_type": "code",
   "execution_count": 23,
   "id": "fe31f9e2",
   "metadata": {},
   "outputs": [
    {
     "data": {
      "text/plain": [
       "Series([], Name: TypeName, dtype: int64)"
      ]
     },
     "execution_count": 23,
     "metadata": {},
     "output_type": "execute_result"
    }
   ],
   "source": [
    "cyc_df.TypeName.value_counts()"
   ]
  },
  {
   "cell_type": "code",
   "execution_count": 24,
   "id": "128f7df7",
   "metadata": {},
   "outputs": [],
   "source": [
    "# height=4, aspect=.7"
   ]
  },
  {
   "cell_type": "code",
   "execution_count": 25,
   "id": "689adc3d",
   "metadata": {},
   "outputs": [
    {
     "ename": "ValueError",
     "evalue": "min() arg is an empty sequence",
     "output_type": "error",
     "traceback": [
      "\u001b[1;31m---------------------------------------------------------------------------\u001b[0m",
      "\u001b[1;31mValueError\u001b[0m                                Traceback (most recent call last)",
      "\u001b[1;32m<ipython-input-25-8d43fc569ff6>\u001b[0m in \u001b[0;36m<module>\u001b[1;34m\u001b[0m\n\u001b[1;32m----> 1\u001b[1;33m \u001b[0msns\u001b[0m\u001b[1;33m.\u001b[0m\u001b[0mfactorplot\u001b[0m\u001b[1;33m(\u001b[0m\u001b[1;34m'Year'\u001b[0m\u001b[1;33m,\u001b[0m\u001b[0mdata\u001b[0m\u001b[1;33m=\u001b[0m\u001b[0mcyc_df\u001b[0m\u001b[1;33m,\u001b[0m\u001b[0mkind\u001b[0m\u001b[1;33m=\u001b[0m\u001b[1;34m'count'\u001b[0m\u001b[1;33m,\u001b[0m\u001b[0mheight\u001b[0m\u001b[1;33m=\u001b[0m\u001b[1;36m6\u001b[0m\u001b[1;33m,\u001b[0m\u001b[0maspect\u001b[0m\u001b[1;33m=\u001b[0m\u001b[1;36m3\u001b[0m\u001b[1;33m)\u001b[0m\u001b[1;33m\u001b[0m\u001b[1;33m\u001b[0m\u001b[0m\n\u001b[0m\u001b[0;32m      2\u001b[0m \u001b[1;31m#plt.figure(figsize=(15,12))\u001b[0m\u001b[1;33m\u001b[0m\u001b[1;33m\u001b[0m\u001b[1;33m\u001b[0m\u001b[0m\n\u001b[0;32m      3\u001b[0m \u001b[1;31m#date\u001b[0m\u001b[1;33m\u001b[0m\u001b[1;33m\u001b[0m\u001b[1;33m\u001b[0m\u001b[0m\n\u001b[0;32m      4\u001b[0m \u001b[1;31m#plt.figure(figsize=(20,20))\u001b[0m\u001b[1;33m\u001b[0m\u001b[1;33m\u001b[0m\u001b[1;33m\u001b[0m\u001b[0m\n",
      "\u001b[1;32m~\\anaconda3\\lib\\site-packages\\seaborn\\categorical.py\u001b[0m in \u001b[0;36mfactorplot\u001b[1;34m(*args, **kwargs)\u001b[0m\n\u001b[0;32m   3722\u001b[0m     \u001b[0mkwargs\u001b[0m\u001b[1;33m.\u001b[0m\u001b[0msetdefault\u001b[0m\u001b[1;33m(\u001b[0m\u001b[1;34m\"kind\"\u001b[0m\u001b[1;33m,\u001b[0m \u001b[1;34m\"point\"\u001b[0m\u001b[1;33m)\u001b[0m\u001b[1;33m\u001b[0m\u001b[1;33m\u001b[0m\u001b[0m\n\u001b[0;32m   3723\u001b[0m \u001b[1;33m\u001b[0m\u001b[0m\n\u001b[1;32m-> 3724\u001b[1;33m     \u001b[1;32mreturn\u001b[0m \u001b[0mcatplot\u001b[0m\u001b[1;33m(\u001b[0m\u001b[1;33m*\u001b[0m\u001b[0margs\u001b[0m\u001b[1;33m,\u001b[0m \u001b[1;33m**\u001b[0m\u001b[0mkwargs\u001b[0m\u001b[1;33m)\u001b[0m\u001b[1;33m\u001b[0m\u001b[1;33m\u001b[0m\u001b[0m\n\u001b[0m\u001b[0;32m   3725\u001b[0m \u001b[1;33m\u001b[0m\u001b[0m\n\u001b[0;32m   3726\u001b[0m \u001b[1;33m\u001b[0m\u001b[0m\n",
      "\u001b[1;32m~\\anaconda3\\lib\\site-packages\\seaborn\\_decorators.py\u001b[0m in \u001b[0;36minner_f\u001b[1;34m(*args, **kwargs)\u001b[0m\n\u001b[0;32m     44\u001b[0m             )\n\u001b[0;32m     45\u001b[0m         \u001b[0mkwargs\u001b[0m\u001b[1;33m.\u001b[0m\u001b[0mupdate\u001b[0m\u001b[1;33m(\u001b[0m\u001b[1;33m{\u001b[0m\u001b[0mk\u001b[0m\u001b[1;33m:\u001b[0m \u001b[0marg\u001b[0m \u001b[1;32mfor\u001b[0m \u001b[0mk\u001b[0m\u001b[1;33m,\u001b[0m \u001b[0marg\u001b[0m \u001b[1;32min\u001b[0m \u001b[0mzip\u001b[0m\u001b[1;33m(\u001b[0m\u001b[0msig\u001b[0m\u001b[1;33m.\u001b[0m\u001b[0mparameters\u001b[0m\u001b[1;33m,\u001b[0m \u001b[0margs\u001b[0m\u001b[1;33m)\u001b[0m\u001b[1;33m}\u001b[0m\u001b[1;33m)\u001b[0m\u001b[1;33m\u001b[0m\u001b[1;33m\u001b[0m\u001b[0m\n\u001b[1;32m---> 46\u001b[1;33m         \u001b[1;32mreturn\u001b[0m \u001b[0mf\u001b[0m\u001b[1;33m(\u001b[0m\u001b[1;33m**\u001b[0m\u001b[0mkwargs\u001b[0m\u001b[1;33m)\u001b[0m\u001b[1;33m\u001b[0m\u001b[1;33m\u001b[0m\u001b[0m\n\u001b[0m\u001b[0;32m     47\u001b[0m     \u001b[1;32mreturn\u001b[0m \u001b[0minner_f\u001b[0m\u001b[1;33m\u001b[0m\u001b[1;33m\u001b[0m\u001b[0m\n\u001b[0;32m     48\u001b[0m \u001b[1;33m\u001b[0m\u001b[0m\n",
      "\u001b[1;32m~\\anaconda3\\lib\\site-packages\\seaborn\\categorical.py\u001b[0m in \u001b[0;36mcatplot\u001b[1;34m(x, y, hue, data, row, col, col_wrap, estimator, ci, n_boot, units, seed, order, hue_order, row_order, col_order, kind, height, aspect, orient, color, palette, legend, legend_out, sharex, sharey, margin_titles, facet_kws, **kwargs)\u001b[0m\n\u001b[0;32m   3811\u001b[0m     \u001b[1;31m# so we need to define ``palette`` to get default behavior for the\u001b[0m\u001b[1;33m\u001b[0m\u001b[1;33m\u001b[0m\u001b[1;33m\u001b[0m\u001b[0m\n\u001b[0;32m   3812\u001b[0m     \u001b[1;31m# categorical functions\u001b[0m\u001b[1;33m\u001b[0m\u001b[1;33m\u001b[0m\u001b[1;33m\u001b[0m\u001b[0m\n\u001b[1;32m-> 3813\u001b[1;33m     \u001b[0mp\u001b[0m\u001b[1;33m.\u001b[0m\u001b[0mestablish_colors\u001b[0m\u001b[1;33m(\u001b[0m\u001b[0mcolor\u001b[0m\u001b[1;33m,\u001b[0m \u001b[0mpalette\u001b[0m\u001b[1;33m,\u001b[0m \u001b[1;36m1\u001b[0m\u001b[1;33m)\u001b[0m\u001b[1;33m\u001b[0m\u001b[1;33m\u001b[0m\u001b[0m\n\u001b[0m\u001b[0;32m   3814\u001b[0m     \u001b[1;32mif\u001b[0m \u001b[0mkind\u001b[0m \u001b[1;33m!=\u001b[0m \u001b[1;34m\"point\"\u001b[0m \u001b[1;32mor\u001b[0m \u001b[0mhue\u001b[0m \u001b[1;32mis\u001b[0m \u001b[1;32mnot\u001b[0m \u001b[1;32mNone\u001b[0m\u001b[1;33m:\u001b[0m\u001b[1;33m\u001b[0m\u001b[1;33m\u001b[0m\u001b[0m\n\u001b[0;32m   3815\u001b[0m         \u001b[0mpalette\u001b[0m \u001b[1;33m=\u001b[0m \u001b[0mp\u001b[0m\u001b[1;33m.\u001b[0m\u001b[0mcolors\u001b[0m\u001b[1;33m\u001b[0m\u001b[1;33m\u001b[0m\u001b[0m\n",
      "\u001b[1;32m~\\anaconda3\\lib\\site-packages\\seaborn\\categorical.py\u001b[0m in \u001b[0;36mestablish_colors\u001b[1;34m(self, color, palette, saturation)\u001b[0m\n\u001b[0;32m    317\u001b[0m         \u001b[1;31m# Determine the gray color to use for the lines framing the plot\u001b[0m\u001b[1;33m\u001b[0m\u001b[1;33m\u001b[0m\u001b[1;33m\u001b[0m\u001b[0m\n\u001b[0;32m    318\u001b[0m         \u001b[0mlight_vals\u001b[0m \u001b[1;33m=\u001b[0m \u001b[1;33m[\u001b[0m\u001b[0mcolorsys\u001b[0m\u001b[1;33m.\u001b[0m\u001b[0mrgb_to_hls\u001b[0m\u001b[1;33m(\u001b[0m\u001b[1;33m*\u001b[0m\u001b[0mc\u001b[0m\u001b[1;33m)\u001b[0m\u001b[1;33m[\u001b[0m\u001b[1;36m1\u001b[0m\u001b[1;33m]\u001b[0m \u001b[1;32mfor\u001b[0m \u001b[0mc\u001b[0m \u001b[1;32min\u001b[0m \u001b[0mrgb_colors\u001b[0m\u001b[1;33m]\u001b[0m\u001b[1;33m\u001b[0m\u001b[1;33m\u001b[0m\u001b[0m\n\u001b[1;32m--> 319\u001b[1;33m         \u001b[0mlum\u001b[0m \u001b[1;33m=\u001b[0m \u001b[0mmin\u001b[0m\u001b[1;33m(\u001b[0m\u001b[0mlight_vals\u001b[0m\u001b[1;33m)\u001b[0m \u001b[1;33m*\u001b[0m \u001b[1;36m.6\u001b[0m\u001b[1;33m\u001b[0m\u001b[1;33m\u001b[0m\u001b[0m\n\u001b[0m\u001b[0;32m    320\u001b[0m         \u001b[0mgray\u001b[0m \u001b[1;33m=\u001b[0m \u001b[0mmpl\u001b[0m\u001b[1;33m.\u001b[0m\u001b[0mcolors\u001b[0m\u001b[1;33m.\u001b[0m\u001b[0mrgb2hex\u001b[0m\u001b[1;33m(\u001b[0m\u001b[1;33m(\u001b[0m\u001b[0mlum\u001b[0m\u001b[1;33m,\u001b[0m \u001b[0mlum\u001b[0m\u001b[1;33m,\u001b[0m \u001b[0mlum\u001b[0m\u001b[1;33m)\u001b[0m\u001b[1;33m)\u001b[0m\u001b[1;33m\u001b[0m\u001b[1;33m\u001b[0m\u001b[0m\n\u001b[0;32m    321\u001b[0m \u001b[1;33m\u001b[0m\u001b[0m\n",
      "\u001b[1;31mValueError\u001b[0m: min() arg is an empty sequence"
     ]
    }
   ],
   "source": [
    "sns.factorplot('Year',data=cyc_df,kind='count',height=6,aspect=3)\n",
    "#plt.figure(figsize=(15,12))\n",
    "#date\n",
    "#plt.figure(figsize=(20,20))"
   ]
  },
  {
   "cell_type": "code",
   "execution_count": 26,
   "id": "9f6c6f78",
   "metadata": {},
   "outputs": [
    {
     "ename": "ValueError",
     "evalue": "min() arg is an empty sequence",
     "output_type": "error",
     "traceback": [
      "\u001b[1;31m---------------------------------------------------------------------------\u001b[0m",
      "\u001b[1;31mValueError\u001b[0m                                Traceback (most recent call last)",
      "\u001b[1;32m<ipython-input-26-c423edcad916>\u001b[0m in \u001b[0;36m<module>\u001b[1;34m\u001b[0m\n\u001b[1;32m----> 1\u001b[1;33m \u001b[0msns\u001b[0m\u001b[1;33m.\u001b[0m\u001b[0mfactorplot\u001b[0m\u001b[1;33m(\u001b[0m\u001b[1;34m'TypeName'\u001b[0m\u001b[1;33m,\u001b[0m\u001b[0mdata\u001b[0m\u001b[1;33m=\u001b[0m\u001b[0mcyc_df\u001b[0m\u001b[1;33m,\u001b[0m\u001b[0mkind\u001b[0m\u001b[1;33m=\u001b[0m\u001b[1;34m'count'\u001b[0m\u001b[1;33m,\u001b[0m\u001b[0mheight\u001b[0m\u001b[1;33m=\u001b[0m\u001b[1;36m6\u001b[0m\u001b[1;33m,\u001b[0m\u001b[0maspect\u001b[0m\u001b[1;33m=\u001b[0m\u001b[1;36m3\u001b[0m\u001b[1;33m)\u001b[0m\u001b[1;33m\u001b[0m\u001b[1;33m\u001b[0m\u001b[0m\n\u001b[0m\u001b[0;32m      2\u001b[0m \u001b[1;31m#plt.figure(figsize=(15,12))\u001b[0m\u001b[1;33m\u001b[0m\u001b[1;33m\u001b[0m\u001b[1;33m\u001b[0m\u001b[0m\n\u001b[0;32m      3\u001b[0m \u001b[1;31m#date\u001b[0m\u001b[1;33m\u001b[0m\u001b[1;33m\u001b[0m\u001b[1;33m\u001b[0m\u001b[0m\n\u001b[0;32m      4\u001b[0m \u001b[0mplt\u001b[0m\u001b[1;33m.\u001b[0m\u001b[0mfigure\u001b[0m\u001b[1;33m(\u001b[0m\u001b[0mfigsize\u001b[0m\u001b[1;33m=\u001b[0m\u001b[1;33m(\u001b[0m\u001b[1;36m20\u001b[0m\u001b[1;33m,\u001b[0m\u001b[1;36m20\u001b[0m\u001b[1;33m)\u001b[0m\u001b[1;33m)\u001b[0m\u001b[1;33m\u001b[0m\u001b[1;33m\u001b[0m\u001b[0m\n",
      "\u001b[1;32m~\\anaconda3\\lib\\site-packages\\seaborn\\categorical.py\u001b[0m in \u001b[0;36mfactorplot\u001b[1;34m(*args, **kwargs)\u001b[0m\n\u001b[0;32m   3722\u001b[0m     \u001b[0mkwargs\u001b[0m\u001b[1;33m.\u001b[0m\u001b[0msetdefault\u001b[0m\u001b[1;33m(\u001b[0m\u001b[1;34m\"kind\"\u001b[0m\u001b[1;33m,\u001b[0m \u001b[1;34m\"point\"\u001b[0m\u001b[1;33m)\u001b[0m\u001b[1;33m\u001b[0m\u001b[1;33m\u001b[0m\u001b[0m\n\u001b[0;32m   3723\u001b[0m \u001b[1;33m\u001b[0m\u001b[0m\n\u001b[1;32m-> 3724\u001b[1;33m     \u001b[1;32mreturn\u001b[0m \u001b[0mcatplot\u001b[0m\u001b[1;33m(\u001b[0m\u001b[1;33m*\u001b[0m\u001b[0margs\u001b[0m\u001b[1;33m,\u001b[0m \u001b[1;33m**\u001b[0m\u001b[0mkwargs\u001b[0m\u001b[1;33m)\u001b[0m\u001b[1;33m\u001b[0m\u001b[1;33m\u001b[0m\u001b[0m\n\u001b[0m\u001b[0;32m   3725\u001b[0m \u001b[1;33m\u001b[0m\u001b[0m\n\u001b[0;32m   3726\u001b[0m \u001b[1;33m\u001b[0m\u001b[0m\n",
      "\u001b[1;32m~\\anaconda3\\lib\\site-packages\\seaborn\\_decorators.py\u001b[0m in \u001b[0;36minner_f\u001b[1;34m(*args, **kwargs)\u001b[0m\n\u001b[0;32m     44\u001b[0m             )\n\u001b[0;32m     45\u001b[0m         \u001b[0mkwargs\u001b[0m\u001b[1;33m.\u001b[0m\u001b[0mupdate\u001b[0m\u001b[1;33m(\u001b[0m\u001b[1;33m{\u001b[0m\u001b[0mk\u001b[0m\u001b[1;33m:\u001b[0m \u001b[0marg\u001b[0m \u001b[1;32mfor\u001b[0m \u001b[0mk\u001b[0m\u001b[1;33m,\u001b[0m \u001b[0marg\u001b[0m \u001b[1;32min\u001b[0m \u001b[0mzip\u001b[0m\u001b[1;33m(\u001b[0m\u001b[0msig\u001b[0m\u001b[1;33m.\u001b[0m\u001b[0mparameters\u001b[0m\u001b[1;33m,\u001b[0m \u001b[0margs\u001b[0m\u001b[1;33m)\u001b[0m\u001b[1;33m}\u001b[0m\u001b[1;33m)\u001b[0m\u001b[1;33m\u001b[0m\u001b[1;33m\u001b[0m\u001b[0m\n\u001b[1;32m---> 46\u001b[1;33m         \u001b[1;32mreturn\u001b[0m \u001b[0mf\u001b[0m\u001b[1;33m(\u001b[0m\u001b[1;33m**\u001b[0m\u001b[0mkwargs\u001b[0m\u001b[1;33m)\u001b[0m\u001b[1;33m\u001b[0m\u001b[1;33m\u001b[0m\u001b[0m\n\u001b[0m\u001b[0;32m     47\u001b[0m     \u001b[1;32mreturn\u001b[0m \u001b[0minner_f\u001b[0m\u001b[1;33m\u001b[0m\u001b[1;33m\u001b[0m\u001b[0m\n\u001b[0;32m     48\u001b[0m \u001b[1;33m\u001b[0m\u001b[0m\n",
      "\u001b[1;32m~\\anaconda3\\lib\\site-packages\\seaborn\\categorical.py\u001b[0m in \u001b[0;36mcatplot\u001b[1;34m(x, y, hue, data, row, col, col_wrap, estimator, ci, n_boot, units, seed, order, hue_order, row_order, col_order, kind, height, aspect, orient, color, palette, legend, legend_out, sharex, sharey, margin_titles, facet_kws, **kwargs)\u001b[0m\n\u001b[0;32m   3811\u001b[0m     \u001b[1;31m# so we need to define ``palette`` to get default behavior for the\u001b[0m\u001b[1;33m\u001b[0m\u001b[1;33m\u001b[0m\u001b[1;33m\u001b[0m\u001b[0m\n\u001b[0;32m   3812\u001b[0m     \u001b[1;31m# categorical functions\u001b[0m\u001b[1;33m\u001b[0m\u001b[1;33m\u001b[0m\u001b[1;33m\u001b[0m\u001b[0m\n\u001b[1;32m-> 3813\u001b[1;33m     \u001b[0mp\u001b[0m\u001b[1;33m.\u001b[0m\u001b[0mestablish_colors\u001b[0m\u001b[1;33m(\u001b[0m\u001b[0mcolor\u001b[0m\u001b[1;33m,\u001b[0m \u001b[0mpalette\u001b[0m\u001b[1;33m,\u001b[0m \u001b[1;36m1\u001b[0m\u001b[1;33m)\u001b[0m\u001b[1;33m\u001b[0m\u001b[1;33m\u001b[0m\u001b[0m\n\u001b[0m\u001b[0;32m   3814\u001b[0m     \u001b[1;32mif\u001b[0m \u001b[0mkind\u001b[0m \u001b[1;33m!=\u001b[0m \u001b[1;34m\"point\"\u001b[0m \u001b[1;32mor\u001b[0m \u001b[0mhue\u001b[0m \u001b[1;32mis\u001b[0m \u001b[1;32mnot\u001b[0m \u001b[1;32mNone\u001b[0m\u001b[1;33m:\u001b[0m\u001b[1;33m\u001b[0m\u001b[1;33m\u001b[0m\u001b[0m\n\u001b[0;32m   3815\u001b[0m         \u001b[0mpalette\u001b[0m \u001b[1;33m=\u001b[0m \u001b[0mp\u001b[0m\u001b[1;33m.\u001b[0m\u001b[0mcolors\u001b[0m\u001b[1;33m\u001b[0m\u001b[1;33m\u001b[0m\u001b[0m\n",
      "\u001b[1;32m~\\anaconda3\\lib\\site-packages\\seaborn\\categorical.py\u001b[0m in \u001b[0;36mestablish_colors\u001b[1;34m(self, color, palette, saturation)\u001b[0m\n\u001b[0;32m    317\u001b[0m         \u001b[1;31m# Determine the gray color to use for the lines framing the plot\u001b[0m\u001b[1;33m\u001b[0m\u001b[1;33m\u001b[0m\u001b[1;33m\u001b[0m\u001b[0m\n\u001b[0;32m    318\u001b[0m         \u001b[0mlight_vals\u001b[0m \u001b[1;33m=\u001b[0m \u001b[1;33m[\u001b[0m\u001b[0mcolorsys\u001b[0m\u001b[1;33m.\u001b[0m\u001b[0mrgb_to_hls\u001b[0m\u001b[1;33m(\u001b[0m\u001b[1;33m*\u001b[0m\u001b[0mc\u001b[0m\u001b[1;33m)\u001b[0m\u001b[1;33m[\u001b[0m\u001b[1;36m1\u001b[0m\u001b[1;33m]\u001b[0m \u001b[1;32mfor\u001b[0m \u001b[0mc\u001b[0m \u001b[1;32min\u001b[0m \u001b[0mrgb_colors\u001b[0m\u001b[1;33m]\u001b[0m\u001b[1;33m\u001b[0m\u001b[1;33m\u001b[0m\u001b[0m\n\u001b[1;32m--> 319\u001b[1;33m         \u001b[0mlum\u001b[0m \u001b[1;33m=\u001b[0m \u001b[0mmin\u001b[0m\u001b[1;33m(\u001b[0m\u001b[0mlight_vals\u001b[0m\u001b[1;33m)\u001b[0m \u001b[1;33m*\u001b[0m \u001b[1;36m.6\u001b[0m\u001b[1;33m\u001b[0m\u001b[1;33m\u001b[0m\u001b[0m\n\u001b[0m\u001b[0;32m    320\u001b[0m         \u001b[0mgray\u001b[0m \u001b[1;33m=\u001b[0m \u001b[0mmpl\u001b[0m\u001b[1;33m.\u001b[0m\u001b[0mcolors\u001b[0m\u001b[1;33m.\u001b[0m\u001b[0mrgb2hex\u001b[0m\u001b[1;33m(\u001b[0m\u001b[1;33m(\u001b[0m\u001b[0mlum\u001b[0m\u001b[1;33m,\u001b[0m \u001b[0mlum\u001b[0m\u001b[1;33m,\u001b[0m \u001b[0mlum\u001b[0m\u001b[1;33m)\u001b[0m\u001b[1;33m)\u001b[0m\u001b[1;33m\u001b[0m\u001b[1;33m\u001b[0m\u001b[0m\n\u001b[0;32m    321\u001b[0m \u001b[1;33m\u001b[0m\u001b[0m\n",
      "\u001b[1;31mValueError\u001b[0m: min() arg is an empty sequence"
     ]
    }
   ],
   "source": [
    "sns.factorplot('TypeName',data=cyc_df,kind='count',height=6,aspect=3)\n",
    "#plt.figure(figsize=(15,12))\n",
    "#date\n",
    "plt.figure(figsize=(20,20))"
   ]
  },
  {
   "cell_type": "code",
   "execution_count": 27,
   "id": "c8d0c65e",
   "metadata": {},
   "outputs": [
    {
     "ename": "ValueError",
     "evalue": "min() arg is an empty sequence",
     "output_type": "error",
     "traceback": [
      "\u001b[1;31m---------------------------------------------------------------------------\u001b[0m",
      "\u001b[1;31mValueError\u001b[0m                                Traceback (most recent call last)",
      "\u001b[1;32m<ipython-input-27-591f06e8aeb6>\u001b[0m in \u001b[0;36m<module>\u001b[1;34m\u001b[0m\n\u001b[1;32m----> 1\u001b[1;33m \u001b[0msns\u001b[0m\u001b[1;33m.\u001b[0m\u001b[0mfactorplot\u001b[0m\u001b[1;33m(\u001b[0m\u001b[1;34m'Pressure(mb)'\u001b[0m\u001b[1;33m,\u001b[0m\u001b[0mdata\u001b[0m\u001b[1;33m=\u001b[0m\u001b[0mcyc_df\u001b[0m\u001b[1;33m,\u001b[0m\u001b[0mkind\u001b[0m\u001b[1;33m=\u001b[0m\u001b[1;34m'count'\u001b[0m\u001b[1;33m,\u001b[0m\u001b[0maspect\u001b[0m\u001b[1;33m=\u001b[0m\u001b[1;36m5\u001b[0m\u001b[1;33m,\u001b[0m\u001b[0mheight\u001b[0m\u001b[1;33m=\u001b[0m\u001b[1;36m5\u001b[0m\u001b[1;33m)\u001b[0m\u001b[1;33m\u001b[0m\u001b[1;33m\u001b[0m\u001b[0m\n\u001b[0m\u001b[0;32m      2\u001b[0m \u001b[1;31m#plt.figure(figsize=(15,12))\u001b[0m\u001b[1;33m\u001b[0m\u001b[1;33m\u001b[0m\u001b[1;33m\u001b[0m\u001b[0m\n\u001b[0;32m      3\u001b[0m \u001b[1;31m#date\u001b[0m\u001b[1;33m\u001b[0m\u001b[1;33m\u001b[0m\u001b[1;33m\u001b[0m\u001b[0m\n\u001b[0;32m      4\u001b[0m \u001b[0mplt\u001b[0m\u001b[1;33m.\u001b[0m\u001b[0mfigure\u001b[0m\u001b[1;33m(\u001b[0m\u001b[0mfigsize\u001b[0m\u001b[1;33m=\u001b[0m\u001b[1;33m(\u001b[0m\u001b[1;36m20\u001b[0m\u001b[1;33m,\u001b[0m\u001b[1;36m20\u001b[0m\u001b[1;33m)\u001b[0m\u001b[1;33m)\u001b[0m\u001b[1;33m\u001b[0m\u001b[1;33m\u001b[0m\u001b[0m\n",
      "\u001b[1;32m~\\anaconda3\\lib\\site-packages\\seaborn\\categorical.py\u001b[0m in \u001b[0;36mfactorplot\u001b[1;34m(*args, **kwargs)\u001b[0m\n\u001b[0;32m   3722\u001b[0m     \u001b[0mkwargs\u001b[0m\u001b[1;33m.\u001b[0m\u001b[0msetdefault\u001b[0m\u001b[1;33m(\u001b[0m\u001b[1;34m\"kind\"\u001b[0m\u001b[1;33m,\u001b[0m \u001b[1;34m\"point\"\u001b[0m\u001b[1;33m)\u001b[0m\u001b[1;33m\u001b[0m\u001b[1;33m\u001b[0m\u001b[0m\n\u001b[0;32m   3723\u001b[0m \u001b[1;33m\u001b[0m\u001b[0m\n\u001b[1;32m-> 3724\u001b[1;33m     \u001b[1;32mreturn\u001b[0m \u001b[0mcatplot\u001b[0m\u001b[1;33m(\u001b[0m\u001b[1;33m*\u001b[0m\u001b[0margs\u001b[0m\u001b[1;33m,\u001b[0m \u001b[1;33m**\u001b[0m\u001b[0mkwargs\u001b[0m\u001b[1;33m)\u001b[0m\u001b[1;33m\u001b[0m\u001b[1;33m\u001b[0m\u001b[0m\n\u001b[0m\u001b[0;32m   3725\u001b[0m \u001b[1;33m\u001b[0m\u001b[0m\n\u001b[0;32m   3726\u001b[0m \u001b[1;33m\u001b[0m\u001b[0m\n",
      "\u001b[1;32m~\\anaconda3\\lib\\site-packages\\seaborn\\_decorators.py\u001b[0m in \u001b[0;36minner_f\u001b[1;34m(*args, **kwargs)\u001b[0m\n\u001b[0;32m     44\u001b[0m             )\n\u001b[0;32m     45\u001b[0m         \u001b[0mkwargs\u001b[0m\u001b[1;33m.\u001b[0m\u001b[0mupdate\u001b[0m\u001b[1;33m(\u001b[0m\u001b[1;33m{\u001b[0m\u001b[0mk\u001b[0m\u001b[1;33m:\u001b[0m \u001b[0marg\u001b[0m \u001b[1;32mfor\u001b[0m \u001b[0mk\u001b[0m\u001b[1;33m,\u001b[0m \u001b[0marg\u001b[0m \u001b[1;32min\u001b[0m \u001b[0mzip\u001b[0m\u001b[1;33m(\u001b[0m\u001b[0msig\u001b[0m\u001b[1;33m.\u001b[0m\u001b[0mparameters\u001b[0m\u001b[1;33m,\u001b[0m \u001b[0margs\u001b[0m\u001b[1;33m)\u001b[0m\u001b[1;33m}\u001b[0m\u001b[1;33m)\u001b[0m\u001b[1;33m\u001b[0m\u001b[1;33m\u001b[0m\u001b[0m\n\u001b[1;32m---> 46\u001b[1;33m         \u001b[1;32mreturn\u001b[0m \u001b[0mf\u001b[0m\u001b[1;33m(\u001b[0m\u001b[1;33m**\u001b[0m\u001b[0mkwargs\u001b[0m\u001b[1;33m)\u001b[0m\u001b[1;33m\u001b[0m\u001b[1;33m\u001b[0m\u001b[0m\n\u001b[0m\u001b[0;32m     47\u001b[0m     \u001b[1;32mreturn\u001b[0m \u001b[0minner_f\u001b[0m\u001b[1;33m\u001b[0m\u001b[1;33m\u001b[0m\u001b[0m\n\u001b[0;32m     48\u001b[0m \u001b[1;33m\u001b[0m\u001b[0m\n",
      "\u001b[1;32m~\\anaconda3\\lib\\site-packages\\seaborn\\categorical.py\u001b[0m in \u001b[0;36mcatplot\u001b[1;34m(x, y, hue, data, row, col, col_wrap, estimator, ci, n_boot, units, seed, order, hue_order, row_order, col_order, kind, height, aspect, orient, color, palette, legend, legend_out, sharex, sharey, margin_titles, facet_kws, **kwargs)\u001b[0m\n\u001b[0;32m   3811\u001b[0m     \u001b[1;31m# so we need to define ``palette`` to get default behavior for the\u001b[0m\u001b[1;33m\u001b[0m\u001b[1;33m\u001b[0m\u001b[1;33m\u001b[0m\u001b[0m\n\u001b[0;32m   3812\u001b[0m     \u001b[1;31m# categorical functions\u001b[0m\u001b[1;33m\u001b[0m\u001b[1;33m\u001b[0m\u001b[1;33m\u001b[0m\u001b[0m\n\u001b[1;32m-> 3813\u001b[1;33m     \u001b[0mp\u001b[0m\u001b[1;33m.\u001b[0m\u001b[0mestablish_colors\u001b[0m\u001b[1;33m(\u001b[0m\u001b[0mcolor\u001b[0m\u001b[1;33m,\u001b[0m \u001b[0mpalette\u001b[0m\u001b[1;33m,\u001b[0m \u001b[1;36m1\u001b[0m\u001b[1;33m)\u001b[0m\u001b[1;33m\u001b[0m\u001b[1;33m\u001b[0m\u001b[0m\n\u001b[0m\u001b[0;32m   3814\u001b[0m     \u001b[1;32mif\u001b[0m \u001b[0mkind\u001b[0m \u001b[1;33m!=\u001b[0m \u001b[1;34m\"point\"\u001b[0m \u001b[1;32mor\u001b[0m \u001b[0mhue\u001b[0m \u001b[1;32mis\u001b[0m \u001b[1;32mnot\u001b[0m \u001b[1;32mNone\u001b[0m\u001b[1;33m:\u001b[0m\u001b[1;33m\u001b[0m\u001b[1;33m\u001b[0m\u001b[0m\n\u001b[0;32m   3815\u001b[0m         \u001b[0mpalette\u001b[0m \u001b[1;33m=\u001b[0m \u001b[0mp\u001b[0m\u001b[1;33m.\u001b[0m\u001b[0mcolors\u001b[0m\u001b[1;33m\u001b[0m\u001b[1;33m\u001b[0m\u001b[0m\n",
      "\u001b[1;32m~\\anaconda3\\lib\\site-packages\\seaborn\\categorical.py\u001b[0m in \u001b[0;36mestablish_colors\u001b[1;34m(self, color, palette, saturation)\u001b[0m\n\u001b[0;32m    317\u001b[0m         \u001b[1;31m# Determine the gray color to use for the lines framing the plot\u001b[0m\u001b[1;33m\u001b[0m\u001b[1;33m\u001b[0m\u001b[1;33m\u001b[0m\u001b[0m\n\u001b[0;32m    318\u001b[0m         \u001b[0mlight_vals\u001b[0m \u001b[1;33m=\u001b[0m \u001b[1;33m[\u001b[0m\u001b[0mcolorsys\u001b[0m\u001b[1;33m.\u001b[0m\u001b[0mrgb_to_hls\u001b[0m\u001b[1;33m(\u001b[0m\u001b[1;33m*\u001b[0m\u001b[0mc\u001b[0m\u001b[1;33m)\u001b[0m\u001b[1;33m[\u001b[0m\u001b[1;36m1\u001b[0m\u001b[1;33m]\u001b[0m \u001b[1;32mfor\u001b[0m \u001b[0mc\u001b[0m \u001b[1;32min\u001b[0m \u001b[0mrgb_colors\u001b[0m\u001b[1;33m]\u001b[0m\u001b[1;33m\u001b[0m\u001b[1;33m\u001b[0m\u001b[0m\n\u001b[1;32m--> 319\u001b[1;33m         \u001b[0mlum\u001b[0m \u001b[1;33m=\u001b[0m \u001b[0mmin\u001b[0m\u001b[1;33m(\u001b[0m\u001b[0mlight_vals\u001b[0m\u001b[1;33m)\u001b[0m \u001b[1;33m*\u001b[0m \u001b[1;36m.6\u001b[0m\u001b[1;33m\u001b[0m\u001b[1;33m\u001b[0m\u001b[0m\n\u001b[0m\u001b[0;32m    320\u001b[0m         \u001b[0mgray\u001b[0m \u001b[1;33m=\u001b[0m \u001b[0mmpl\u001b[0m\u001b[1;33m.\u001b[0m\u001b[0mcolors\u001b[0m\u001b[1;33m.\u001b[0m\u001b[0mrgb2hex\u001b[0m\u001b[1;33m(\u001b[0m\u001b[1;33m(\u001b[0m\u001b[0mlum\u001b[0m\u001b[1;33m,\u001b[0m \u001b[0mlum\u001b[0m\u001b[1;33m,\u001b[0m \u001b[0mlum\u001b[0m\u001b[1;33m)\u001b[0m\u001b[1;33m)\u001b[0m\u001b[1;33m\u001b[0m\u001b[1;33m\u001b[0m\u001b[0m\n\u001b[0;32m    321\u001b[0m \u001b[1;33m\u001b[0m\u001b[0m\n",
      "\u001b[1;31mValueError\u001b[0m: min() arg is an empty sequence"
     ]
    }
   ],
   "source": [
    "sns.factorplot('Pressure(mb)',data=cyc_df,kind='count',aspect=5,height=5)\n",
    "#plt.figure(figsize=(15,12))\n",
    "#date\n",
    "plt.figure(figsize=(20,20))"
   ]
  },
  {
   "cell_type": "code",
   "execution_count": 28,
   "id": "79a85014",
   "metadata": {},
   "outputs": [
    {
     "data": {
      "text/plain": [
       "<Figure size 504x288 with 0 Axes>"
      ]
     },
     "execution_count": 28,
     "metadata": {},
     "output_type": "execute_result"
    },
    {
     "data": {
      "image/png": "[encoded data removed]",
      "text/plain": [
       "<Figure size 432x288 with 1 Axes>"
      ]
     },
     "metadata": {
      "needs_background": "light"
     },
     "output_type": "display_data"
    },
    {
     "data": {
      "text/plain": [
       "<Figure size 504x288 with 0 Axes>"
      ]
     },
     "metadata": {},
     "output_type": "display_data"
    }
   ],
   "source": [
    "# histograms\n",
    "cyc_df['TypeName'].hist()\n",
    "#figure(figsize=(20,20))\n",
    "plt.figure(figsize=(7,4))"
   ]
  },
  {
   "cell_type": "code",
   "execution_count": 29,
   "id": "1d5421f6",
   "metadata": {},
   "outputs": [
    {
     "data": {
      "text/plain": [
       "Series([], Name: TypeName, dtype: object)"
      ]
     },
     "execution_count": 29,
     "metadata": {},
     "output_type": "execute_result"
    }
   ],
   "source": [
    "cyc_df['TypeName']"
   ]
  },
  {
   "cell_type": "code",
   "execution_count": 30,
   "id": "cc747c95",
   "metadata": {},
   "outputs": [],
   "source": [
    "#cyc_df['Type'].dropna([Type.s,Type.ss],inplace=True)"
   ]
  },
  {
   "cell_type": "code",
   "execution_count": 31,
   "id": "1e5a39e2",
   "metadata": {},
   "outputs": [
    {
     "data": {
      "text/plain": [
       "<AxesSubplot:>"
      ]
     },
     "execution_count": 31,
     "metadata": {},
     "output_type": "execute_result"
    },
    {
     "data": {
      "image/png": "[encoded data removed]",
      "text/plain": [
       "<Figure size 432x288 with 1 Axes>"
      ]
     },
     "metadata": {
      "needs_background": "light"
     },
     "output_type": "display_data"
    }
   ],
   "source": [
    "# histograms\n",
    "cyc_df['Year'].hist()"
   ]
  },
  {
   "cell_type": "code",
   "execution_count": 32,
   "id": "ff76f23f",
   "metadata": {},
   "outputs": [
    {
     "data": {
      "text/plain": [
       "<AxesSubplot:>"
      ]
     },
     "execution_count": 32,
     "metadata": {},
     "output_type": "execute_result"
    },
    {
     "data": {
      "image/png": "[encoded data removed]",
      "text/plain": [
       "<Figure size 432x288 with 1 Axes>"
      ]
     },
     "metadata": {
      "needs_background": "light"
     },
     "output_type": "display_data"
    }
   ],
   "source": [
    "# histograms\n",
    "cyc_df['Wind(km/h)'].hist()"
   ]
  },
  {
   "cell_type": "code",
   "execution_count": null,
   "id": "dcfc49a3",
   "metadata": {},
   "outputs": [],
   "source": [
    "#not distributed properly"
   ]
  },
  {
   "cell_type": "code",
   "execution_count": 33,
   "id": "abf72520",
   "metadata": {},
   "outputs": [
    {
     "data": {
      "text/plain": [
       "<AxesSubplot:>"
      ]
     },
     "execution_count": 33,
     "metadata": {},
     "output_type": "execute_result"
    },
    {
     "data": {
      "image/png": "[encoded data removed]",
      "text/plain": [
       "<Figure size 432x288 with 1 Axes>"
      ]
     },
     "metadata": {
      "needs_background": "light"
     },
     "output_type": "display_data"
    }
   ],
   "source": [
    "# histograms\n",
    "cyc_df['Pressure(mb)'].hist()"
   ]
  },
  {
   "cell_type": "markdown",
   "id": "d43d45fd",
   "metadata": {},
   "source": [
    "#left skewed"
   ]
  },
  {
   "cell_type": "code",
   "execution_count": 34,
   "id": "89720702",
   "metadata": {},
   "outputs": [
    {
     "data": {
      "text/plain": [
       "<AxesSubplot:>"
      ]
     },
     "execution_count": 34,
     "metadata": {},
     "output_type": "execute_result"
    },
    {
     "data": {
      "image/png": "[encoded data removed]",
      "text/plain": [
       "<Figure size 504x288 with 1 Axes>"
      ]
     },
     "metadata": {
      "needs_background": "light"
     },
     "output_type": "display_data"
    }
   ],
   "source": [
    "plt.figure(figsize=(7,4))\n",
    "sns.lineplot(y=cyc_df['Wind(km/h)'], x=cyc_df['TypeName'])"
   ]
  },
  {
   "cell_type": "code",
   "execution_count": 35,
   "id": "4fcb2c79",
   "metadata": {},
   "outputs": [],
   "source": [
    "#left skewed"
   ]
  },
  {
   "cell_type": "code",
   "execution_count": 36,
   "id": "2a0fdf36",
   "metadata": {},
   "outputs": [
    {
     "data": {
      "text/plain": [
       "<AxesSubplot:>"
      ]
     },
     "execution_count": 36,
     "metadata": {},
     "output_type": "execute_result"
    },
    {
     "data": {
      "image/png": "[encoded data removed]",
      "text/plain": [
       "<Figure size 576x432 with 1 Axes>"
      ]
     },
     "metadata": {
      "needs_background": "light"
     },
     "output_type": "display_data"
    }
   ],
   "source": [
    "#scatterplot\n",
    "plt.figure(figsize=(8,6))\n",
    "sns.scatterplot(y=cyc_df['Wind(km/h)'], x=cyc_df['TypeName'])"
   ]
  },
  {
   "cell_type": "code",
   "execution_count": 37,
   "id": "fb7a5a7c",
   "metadata": {},
   "outputs": [
    {
     "data": {
      "text/plain": [
       "<AxesSubplot:>"
      ]
     },
     "execution_count": 37,
     "metadata": {},
     "output_type": "execute_result"
    },
    {
     "data": {
      "image/png": "[encoded data removed]",
      "text/plain": [
       "<Figure size 432x288 with 1 Axes>"
      ]
     },
     "metadata": {
      "needs_background": "light"
     },
     "output_type": "display_data"
    }
   ],
   "source": [
    "#plt.figure(figsize=(7,4))\n",
    "sns.lineplot(x=cyc_df['Wind(km/h)'], y=cyc_df['TypeName'])"
   ]
  },
  {
   "cell_type": "code",
   "execution_count": null,
   "id": "7b719ee5",
   "metadata": {},
   "outputs": [],
   "source": [
    "#Typhoon has a maximum windspeed\n",
    "#Tropical strom minimum wind speed"
   ]
  },
  {
   "cell_type": "code",
   "execution_count": null,
   "id": "38c872e9",
   "metadata": {},
   "outputs": [],
   "source": [
    "plt.figure(figsize=(7,4))\n",
    "sns.lineplot(x=cyc_df['Wind(km/h)'], y=cyc_df['Pressure(mb)'])"
   ]
  },
  {
   "cell_type": "markdown",
   "id": "ee7374b4",
   "metadata": {},
   "source": [
    "#when pressure is high wind speed is low"
   ]
  },
  {
   "cell_type": "code",
   "execution_count": null,
   "id": "7295f51a",
   "metadata": {},
   "outputs": [],
   "source": [
    "plt.figure(figsize=(7,4))\n",
    "sns.lineplot(x=cyc_df['Wind(km/h)'], y=cyc_df['TypeName'])"
   ]
  },
  {
   "cell_type": "code",
   "execution_count": null,
   "id": "eb473ba2",
   "metadata": {},
   "outputs": [],
   "source": [
    "#date\n",
    "plt.figure(figsize=(7,4))\n",
    "sns.scatterplot(x=cyc_df['Year'], y=cyc_df['TypeName'])\n",
    "plt.title('Year vs Type')"
   ]
  },
  {
   "cell_type": "code",
   "execution_count": null,
   "id": "affb6113",
   "metadata": {},
   "outputs": [],
   "source": [
    "#date\n",
    "plt.figure(figsize=(7,4))\n",
    "sns.scatterplot(x=cyc_df['Wind(km/h)'], y=cyc_df['TypeName'])\n",
    "plt.title('Year vs Type')"
   ]
  },
  {
   "cell_type": "code",
   "execution_count": null,
   "id": "5fb41283",
   "metadata": {},
   "outputs": [],
   "source": [
    "#date\n",
    "plt.figure(figsize=(7,4))\n",
    "sns.scatterplot(x=cyc_df['Pressure(mb)'], y=cyc_df['TypeName'])\n",
    "plt.title('Pressure(mb) vs TypeName')"
   ]
  },
  {
   "cell_type": "code",
   "execution_count": null,
   "id": "06601f53",
   "metadata": {},
   "outputs": [],
   "source": [
    "cyc_df.columns"
   ]
  },
  {
   "cell_type": "code",
   "execution_count": null,
   "id": "9df7754c",
   "metadata": {},
   "outputs": [],
   "source": [
    "cyc_df['TypeName'].value_counts()"
   ]
  },
  {
   "cell_type": "code",
   "execution_count": null,
   "id": "a08a3a58",
   "metadata": {},
   "outputs": [],
   "source": [
    "#len('TypeName')"
   ]
  },
  {
   "cell_type": "code",
   "execution_count": null,
   "id": "54db233a",
   "metadata": {},
   "outputs": [],
   "source": [
    "# scatterplot\n",
    "colors = ['red', 'orange', 'blue','green']\n",
    "TypeName = ['TROPICAL STORM','TROPICAL DEPRESSION','Typhoon','SEVERE TROPICAL STORM']"
   ]
  },
  {
   "cell_type": "code",
   "execution_count": null,
   "id": "509e87dd",
   "metadata": {},
   "outputs": [],
   "source": [
    "for i in range(len(TypeName)):\n",
    "    x =cyc_df[cyc_df['TypeName'] == TypeName[i]]\n",
    "    plt.scatter(x['Wind(km/h)'], x['Pressure(mb)'], c = colors[i], label=TypeName[i])\n",
    "plt.xlabel(\"Wind(km/h)\")\n",
    "plt.ylabel(\"Pressure(mb)\")\n",
    "plt.legend()"
   ]
  },
  {
   "cell_type": "code",
   "execution_count": null,
   "id": "3007d1f3",
   "metadata": {},
   "outputs": [],
   "source": [
    "cyc_df.corr()"
   ]
  },
  {
   "cell_type": "code",
   "execution_count": null,
   "id": "9e0fc819",
   "metadata": {},
   "outputs": [],
   "source": [
    "corr = cyc_df.corr()\n",
    "fig, ax = plt.subplots(figsize=(5,4))\n",
    "sns.heatmap(corr, annot=True, ax=ax, cmap = 'coolwarm')"
   ]
  },
  {
   "cell_type": "code",
   "execution_count": 41,
   "id": "bbb16e4f",
   "metadata": {},
   "outputs": [
    {
     "data": {
      "text/html": [
       "<div>\n",
       "<style scoped>\n",
       "    .dataframe tbody tr th:only-of-type {\n",
       "        vertical-align: middle;\n",
       "    }\n",
       "\n",
       "    .dataframe tbody tr th {\n",
       "        vertical-align: top;\n",
       "    }\n",
       "\n",
       "    .dataframe thead th {\n",
       "        text-align: right;\n",
       "    }\n",
       "</style>\n",
       "<table border=\"1\" class=\"dataframe\">\n",
       "  <thead>\n",
       "    <tr style=\"text-align: right;\">\n",
       "      <th></th>\n",
       "      <th>Year</th>\n",
       "      <th>TypeName</th>\n",
       "      <th>Wind(km/h)</th>\n",
       "      <th>Pressure(mb)</th>\n",
       "      <th>Unnamed: 9</th>\n",
       "      <th>Unnamed: 10</th>\n",
       "      <th>Unnamed: 11</th>\n",
       "      <th>Unnamed: 12</th>\n",
       "      <th>Unnamed: 13</th>\n",
       "      <th>Unnamed: 14</th>\n",
       "      <th>Unnamed: 15</th>\n",
       "      <th>Unnamed: 16</th>\n",
       "      <th>Unnamed: 17</th>\n",
       "      <th>Unnamed: 18</th>\n",
       "      <th>Unnamed: 19</th>\n",
       "      <th>Unnamed: 20</th>\n",
       "      <th>Unnamed: 21</th>\n",
       "      <th>Unnamed: 22</th>\n",
       "      <th>Unnamed: 23</th>\n",
       "      <th>Unnamed: 24</th>\n",
       "    </tr>\n",
       "  </thead>\n",
       "  <tbody>\n",
       "  </tbody>\n",
       "</table>\n",
       "</div>"
      ],
      "text/plain": [
       "Empty DataFrame\n",
       "Columns: [Year, TypeName, Wind(km/h), Pressure(mb), Unnamed: 9, Unnamed: 10, Unnamed: 11, Unnamed: 12, Unnamed: 13, Unnamed: 14, Unnamed: 15, Unnamed: 16, Unnamed: 17, Unnamed: 18, Unnamed: 19, Unnamed: 20, Unnamed: 21, Unnamed: 22, Unnamed: 23, Unnamed: 24]\n",
       "Index: []"
      ]
     },
     "execution_count": 41,
     "metadata": {},
     "output_type": "execute_result"
    }
   ],
   "source": [
    "cyc_df.head()"
   ]
  },
  {
   "cell_type": "code",
   "execution_count": null,
   "id": "5cb13205",
   "metadata": {},
   "outputs": [],
   "source": [
    "#from sklearn import preprocessing\n",
    "#le = preprocessing.LabelEncoder()\n",
    "from sklearn.preprocessing import LabelEncoder\n",
    "le = LabelEncoder()"
   ]
  },
  {
   "cell_type": "code",
   "execution_count": null,
   "id": "39c16a8a",
   "metadata": {
    "scrolled": true
   },
   "outputs": [],
   "source": [
    "#cyc_df['TypeName'] = le.fit_transform(cyc_df['TypeName'])\n",
    "#cyc_df.head()"
   ]
  },
  {
   "cell_type": "code",
   "execution_count": null,
   "id": "dee018f1",
   "metadata": {},
   "outputs": [],
   "source": [
    "from sklearn.model_selection import train_test_split\n",
    "X = cyc_df.drop(columns=['TypeName'])\n",
    "Y = cyc_df['TypeName']\n",
    "x_train, x_test, y_train, y_test = train_test_split(X, Y, test_size=0.30) # train-70, test-30\n",
    "\n",
    "#OR\n",
    "\n",
    "#from sklearn import model_selection\n",
    "#te = model_selection.train_test_split\n",
    "#X = df.drop(columns=['Species'])\n",
    "#Y = df['Species']\n",
    "#x_train, x_test, y_train, y_test = te(X, Y, test_size=0.30)'"
   ]
  },
  {
   "cell_type": "code",
   "execution_count": null,
   "id": "411b73da",
   "metadata": {},
   "outputs": [],
   "source": [
    "# logistic regression \n",
    "from sklearn.linear_model import LogisticRegression\n",
    "model = LogisticRegression(max_iter=700)\n",
    "#OR\n",
    "\n",
    "#from sklearn import linear_model\n",
    "#model = linear_model.LogisticRegression()"
   ]
  },
  {
   "cell_type": "code",
   "execution_count": null,
   "id": "6956bad2",
   "metadata": {},
   "outputs": [],
   "source": [
    "# model training\n",
    "model.fit(x_train, y_train)"
   ]
  },
  {
   "cell_type": "code",
   "execution_count": null,
   "id": "52c68ef6",
   "metadata": {},
   "outputs": [],
   "source": [
    "# print metric to get performance\n",
    "print(\"Accuracy: \",model.score(x_test, y_test) * 100)"
   ]
  },
  {
   "cell_type": "code",
   "execution_count": null,
   "id": "f67b24d4",
   "metadata": {},
   "outputs": [],
   "source": [
    "# print metric to get performance\n",
    "#print(\"Accuracy: \",model.score(x_test, y_test) * 100)"
   ]
  },
  {
   "cell_type": "code",
   "execution_count": null,
   "id": "566c2e5d",
   "metadata": {},
   "outputs": [],
   "source": [
    "# knn - k-nearest neighbours\n",
    "from sklearn.neighbors import KNeighborsClassifier\n",
    "model = KNeighborsClassifier()"
   ]
  },
  {
   "cell_type": "code",
   "execution_count": null,
   "id": "01a8108f",
   "metadata": {},
   "outputs": [],
   "source": [
    "model.fit(x_train, y_train)"
   ]
  },
  {
   "cell_type": "code",
   "execution_count": null,
   "id": "ab0b8617",
   "metadata": {},
   "outputs": [],
   "source": [
    "# print metric to get performance\n",
    "print(\"Accuracy: \",model.score(x_test, y_test) * 100)"
   ]
  },
  {
   "cell_type": "code",
   "execution_count": null,
   "id": "f570bf80",
   "metadata": {},
   "outputs": [],
   "source": [
    "# print metric to get performance\n",
    "#print(\"Accuracy: \",model.score(x_test, y_test) * 100)"
   ]
  },
  {
   "cell_type": "code",
   "execution_count": null,
   "id": "08f98f53",
   "metadata": {},
   "outputs": [],
   "source": [
    "# decision tree\n",
    "from sklearn.tree import DecisionTreeClassifier\n",
    "model = DecisionTreeClassifier()"
   ]
  },
  {
   "cell_type": "code",
   "execution_count": null,
   "id": "7c1c88e0",
   "metadata": {},
   "outputs": [],
   "source": [
    "model.fit(x_train, y_train)"
   ]
  },
  {
   "cell_type": "code",
   "execution_count": null,
   "id": "785743e0",
   "metadata": {},
   "outputs": [],
   "source": [
    "# print metric to get performance\n",
    "print(\"Accuracy: \",model.score(x_test, y_test) * 100)"
   ]
  },
  {
   "cell_type": "code",
   "execution_count": null,
   "id": "f0b5b471",
   "metadata": {},
   "outputs": [],
   "source": [
    "# print metric to get performance\n",
    "#print(\"Accuracy: \",model.score(x_test, y_test) * 100)"
   ]
  },
  {
   "cell_type": "markdown",
   "id": "6b90e747",
   "metadata": {},
   "source": [
    "# Testing with other data"
   ]
  },
  {
   "cell_type": "markdown",
   "id": "db1b703b",
   "metadata": {},
   "source": [
    "#The Test csv file contains different classification Type(10 cyclone Type classification)"
   ]
  },
  {
   "cell_type": "code",
   "execution_count": null,
   "id": "aafd084e",
   "metadata": {},
   "outputs": [],
   "source": [
    "#cyc_df=pd.read_excel('/Users/n.sunik/Downloads/Cyclone Excel File.xlsx')\n",
    "#/Users/n.sunik/IBM_Internship"
   ]
  },
  {
   "cell_type": "code",
   "execution_count": null,
   "id": "5ed22ad6",
   "metadata": {},
   "outputs": [],
   "source": [
    "cyc_df1=pd.read_csv('/Users/n.sunik/Pictures/Cyclone _Dataset_4.csv')\n",
    "#/Users/n.sunik/IBM_Internship"
   ]
  },
  {
   "cell_type": "code",
   "execution_count": null,
   "id": "9a8190f1",
   "metadata": {},
   "outputs": [],
   "source": [
    "cyc_df1.head()"
   ]
  },
  {
   "cell_type": "code",
   "execution_count": null,
   "id": "661bd4c2",
   "metadata": {},
   "outputs": [],
   "source": [
    "cyc_df1.dtypes"
   ]
  },
  {
   "cell_type": "code",
   "execution_count": null,
   "id": "eddc7a8d",
   "metadata": {},
   "outputs": [],
   "source": [
    "cyc_df1.Type.value_counts()"
   ]
  },
  {
   "cell_type": "code",
   "execution_count": null,
   "id": "4195b1df",
   "metadata": {},
   "outputs": [],
   "source": [
    "# delete a column\n",
    "cyc_df1 = cyc_df1.drop(columns = ['Name','Date','Time','Sl No.'])\n",
    "cyc_df1.head()"
   ]
  },
  {
   "cell_type": "code",
   "execution_count": null,
   "id": "746318b9",
   "metadata": {},
   "outputs": [],
   "source": [
    "cyc_df1.Type.value_counts()"
   ]
  },
  {
   "cell_type": "code",
   "execution_count": null,
   "id": "b996a6ba",
   "metadata": {},
   "outputs": [],
   "source": [
    "#len(Type)"
   ]
  },
  {
   "cell_type": "code",
   "execution_count": null,
   "id": "38617639",
   "metadata": {},
   "outputs": [],
   "source": [
    "# scatterplot\n",
    "colors = ['red', 'orange', 'blue','green','pink','black','yellow','purple','gray','lime']\n",
    "Type = ['C','D','VC','DD','EC','SC','B','SU','M','S']\n",
    "#C=Cyclonic Storm"
   ]
  },
  {
   "cell_type": "code",
   "execution_count": null,
   "id": "bbae2fb3",
   "metadata": {},
   "outputs": [],
   "source": [
    "#len(Type)"
   ]
  },
  {
   "cell_type": "code",
   "execution_count": null,
   "id": "e46e42fe",
   "metadata": {},
   "outputs": [],
   "source": [
    "for i in range(len(Type)):\n",
    "    x =cyc_df1[cyc_df1['Type'] == Type[i]]\n",
    "    plt.scatter(x['Wind Speed'], x['Pressure'], c = colors[i], label=Type[i])\n",
    "plt.xlabel(\"Wind(km/h)\")\n",
    "plt.ylabel(\"Pressure(mb)\")\n",
    "plt.legend()"
   ]
  },
  {
   "cell_type": "markdown",
   "id": "46622002",
   "metadata": {},
   "source": [
    " 1.C=Cyclonic Storm\n",
    " 2.D = Depression\n",
    " 3.VC =Very Severe Cyclonic Storm\n",
    " 4.DD = Deep Depression\n",
    " 5.EC = Extremely severe\n",
    " 6.SU =Super Cyclonic\n",
    " 7.SC = Severe Cyclonic\n",
    " 8.B = Disturbance\n",
    " 9.M = \n",
    "10.S = Moderate Tropical Storm"
   ]
  },
  {
   "cell_type": "code",
   "execution_count": null,
   "id": "05fe0e01",
   "metadata": {},
   "outputs": [],
   "source": [
    "from sklearn.model_selection import train_test_split\n",
    "X = cyc_df1.drop(columns=['Type'])\n",
    "Y = cyc_df1['Type']\n",
    "x_train, x_test, y_train, y_test = train_test_split(X, Y, test_size=0.30) # train-70, test-30"
   ]
  },
  {
   "cell_type": "code",
   "execution_count": null,
   "id": "d0c07675",
   "metadata": {},
   "outputs": [],
   "source": [
    "# decision tree\n",
    "from sklearn.tree import DecisionTreeClassifier\n",
    "model = DecisionTreeClassifier()"
   ]
  },
  {
   "cell_type": "code",
   "execution_count": null,
   "id": "eb849c9c",
   "metadata": {},
   "outputs": [],
   "source": [
    "model.fit(x_train, y_train)"
   ]
  },
  {
   "cell_type": "code",
   "execution_count": null,
   "id": "958c8041",
   "metadata": {},
   "outputs": [],
   "source": [
    "# print metric to get performance\n",
    "print(\"Accuracy: \",model.score(x_test, y_test) * 100)"
   ]
  },
  {
   "cell_type": "code",
   "execution_count": null,
   "id": "ebc409ef",
   "metadata": {},
   "outputs": [],
   "source": [
    "#Accuracy:  92.01877934272301"
   ]
  },
  {
   "cell_type": "markdown",
   "id": "a1939abc",
   "metadata": {},
   "source": [
    "# Compareing  different type of models "
   ]
  },
  {
   "cell_type": "code",
   "execution_count": null,
   "id": "04c1b9a9",
   "metadata": {},
   "outputs": [],
   "source": [
    "# Compare Algorithms\n",
    "import pandas\n",
    "import matplotlib.pyplot as plt\n",
    "from sklearn import model_selection\n",
    "from sklearn.linear_model import LogisticRegression\n",
    "from sklearn.tree import DecisionTreeClassifier\n",
    "from sklearn.neighbors import KNeighborsClassifier\n",
    "from sklearn.discriminant_analysis import LinearDiscriminantAnalysis\n",
    "from sklearn.naive_bayes import GaussianNB\n",
    "from sklearn.svm import SVC"
   ]
  },
  {
   "cell_type": "code",
   "execution_count": null,
   "id": "b8564a43",
   "metadata": {},
   "outputs": [],
   "source": [
    "# prepare configuration for cross validation test harness\n",
    "seed = 7\n",
    "# prepare models\n",
    "models = []\n",
    "models.append(('LR', LogisticRegression()))\n",
    "models.append(('LDA', LinearDiscriminantAnalysis()))\n",
    "models.append(('KNN', KNeighborsClassifier()))\n",
    "models.append(('CART', DecisionTreeClassifier()))\n",
    "models.append(('NB', GaussianNB()))\n",
    "models.append(('SVM', SVC()))"
   ]
  },
  {
   "cell_type": "code",
   "execution_count": null,
   "id": "89a1a277",
   "metadata": {},
   "outputs": [],
   "source": [
    "# evaluate each model in turn\n",
    "results = []\n",
    "names = []\n",
    "scoring = 'accuracy'\n",
    "for name, model in models:\n",
    "    kfold = model_selection.KFold(n_splits=10, random_state=None)\n",
    "    cv_results = model_selection.cross_val_score(model, X, Y, cv=kfold, scoring=scoring)\n",
    "    results.append(cv_results)\n",
    "    names.append(name)\n",
    "    msg = \"%s: %f (%f)\" % (name, cv_results.mean(), cv_results.std())\n",
    "    print(msg)\n",
    "# boxplot algorithm comparison\n",
    "fig = plt.figure()\n",
    "fig.suptitle('Algorithm Comparison')\n",
    "ax = fig.add_subplot(111)\n",
    "plt.boxplot(results)\n",
    "ax.set_xticklabels(names)\n",
    "plt.show()"
   ]
  },
  {
   "cell_type": "code",
   "execution_count": null,
   "id": "adfca978",
   "metadata": {},
   "outputs": [],
   "source": [
    "#Support Vector Machine” (SVM)"
   ]
  },
  {
   "cell_type": "code",
   "execution_count": null,
   "id": "802dd4d1",
   "metadata": {},
   "outputs": [],
   "source": []
  },
  {
   "cell_type": "code",
   "execution_count": null,
   "id": "4a0bf9b0",
   "metadata": {},
   "outputs": [],
   "source": []
  },
  {
   "cell_type": "raw",
   "id": "0aa2dc40",
   "metadata": {},
   "source": [
    "# 1=Fani in 2019 ,Type - C(Cyclonic Storm ),\n",
    "#wind=85,pressure=992,Cyclonic Storm \n",
    "# 2-173\t2021\tTROPICAL STORM\tS\t85.0\t999.0"
   ]
  },
  {
   "cell_type": "code",
   "execution_count": null,
   "id": "615104e5",
   "metadata": {},
   "outputs": [],
   "source": []
  },
  {
   "cell_type": "code",
   "execution_count": null,
   "id": "16085a74",
   "metadata": {},
   "outputs": [],
   "source": []
  },
  {
   "cell_type": "code",
   "execution_count": null,
   "id": "207a8533",
   "metadata": {},
   "outputs": [],
   "source": []
  },
  {
   "cell_type": "code",
   "execution_count": null,
   "id": "1553d85d",
   "metadata": {},
   "outputs": [],
   "source": []
  },
  {
   "cell_type": "code",
   "execution_count": null,
   "id": "e3ed67c9",
   "metadata": {},
   "outputs": [],
   "source": []
  },
  {
   "cell_type": "code",
   "execution_count": null,
   "id": "09e52e17",
   "metadata": {},
   "outputs": [],
   "source": []
  },
  {
   "cell_type": "code",
   "execution_count": null,
   "id": "d3429bc1",
   "metadata": {},
   "outputs": [],
   "source": []
  },
  {
   "cell_type": "code",
   "execution_count": null,
   "id": "608ca261",
   "metadata": {},
   "outputs": [],
   "source": []
  },
  {
   "cell_type": "code",
   "execution_count": null,
   "id": "0b269c39",
   "metadata": {},
   "outputs": [],
   "source": []
  },
  {
   "cell_type": "code",
   "execution_count": null,
   "id": "dfcb2ec2",
   "metadata": {},
   "outputs": [],
   "source": []
  },
  {
   "cell_type": "code",
   "execution_count": null,
   "id": "eb9f67bd",
   "metadata": {},
   "outputs": [],
   "source": []
  },
  {
   "cell_type": "code",
   "execution_count": null,
   "id": "5e660371",
   "metadata": {},
   "outputs": [],
   "source": []
  },
  {
   "cell_type": "code",
   "execution_count": 426,
   "id": "0dad7880",
   "metadata": {},
   "outputs": [],
   "source": [
    "df = cyc_df"
   ]
  },
  {
   "cell_type": "code",
   "execution_count": 427,
   "id": "4990b6c8",
   "metadata": {},
   "outputs": [
    {
     "data": {
      "text/html": [
       "<div>\n",
       "<style scoped>\n",
       "    .dataframe tbody tr th:only-of-type {\n",
       "        vertical-align: middle;\n",
       "    }\n",
       "\n",
       "    .dataframe tbody tr th {\n",
       "        vertical-align: top;\n",
       "    }\n",
       "\n",
       "    .dataframe thead th {\n",
       "        text-align: right;\n",
       "    }\n",
       "</style>\n",
       "<table border=\"1\" class=\"dataframe\">\n",
       "  <thead>\n",
       "    <tr style=\"text-align: right;\">\n",
       "      <th></th>\n",
       "      <th>Year</th>\n",
       "      <th>Month</th>\n",
       "      <th>Date</th>\n",
       "      <th>Time</th>\n",
       "      <th>CycloneName</th>\n",
       "      <th>TypeName</th>\n",
       "      <th>Type</th>\n",
       "      <th>Wind(km/h)</th>\n",
       "      <th>Pressure(mb)</th>\n",
       "      <th>Unnamed: 9</th>\n",
       "      <th>...</th>\n",
       "      <th>Unnamed: 15</th>\n",
       "      <th>Unnamed: 16</th>\n",
       "      <th>Unnamed: 17</th>\n",
       "      <th>Unnamed: 18</th>\n",
       "      <th>Unnamed: 19</th>\n",
       "      <th>Unnamed: 20</th>\n",
       "      <th>Unnamed: 21</th>\n",
       "      <th>Unnamed: 22</th>\n",
       "      <th>Unnamed: 23</th>\n",
       "      <th>Unnamed: 24</th>\n",
       "    </tr>\n",
       "  </thead>\n",
       "  <tbody>\n",
       "    <tr>\n",
       "      <th>0</th>\n",
       "      <td>2021.0</td>\n",
       "      <td>December</td>\n",
       "      <td>Dec 18</td>\n",
       "      <td>11:30</td>\n",
       "      <td>Typhoon Rai (Odette) 2021</td>\n",
       "      <td>Typhoon</td>\n",
       "      <td>T</td>\n",
       "      <td>170.0</td>\n",
       "      <td>962.0</td>\n",
       "      <td>NaN</td>\n",
       "      <td>...</td>\n",
       "      <td>NaN</td>\n",
       "      <td>NaN</td>\n",
       "      <td>NaN</td>\n",
       "      <td>NaN</td>\n",
       "      <td>NaN</td>\n",
       "      <td>NaN</td>\n",
       "      <td>NaN</td>\n",
       "      <td>NaN</td>\n",
       "      <td>NaN</td>\n",
       "      <td>NaN</td>\n",
       "    </tr>\n",
       "    <tr>\n",
       "      <th>1</th>\n",
       "      <td>2021.0</td>\n",
       "      <td>December</td>\n",
       "      <td>Dec 19</td>\n",
       "      <td>17:30</td>\n",
       "      <td>Typhoon Rai (Odette) 2021</td>\n",
       "      <td>Typhoon</td>\n",
       "      <td>T</td>\n",
       "      <td>165.0</td>\n",
       "      <td>957.0</td>\n",
       "      <td>NaN</td>\n",
       "      <td>...</td>\n",
       "      <td>NaN</td>\n",
       "      <td>NaN</td>\n",
       "      <td>NaN</td>\n",
       "      <td>NaN</td>\n",
       "      <td>NaN</td>\n",
       "      <td>NaN</td>\n",
       "      <td>NaN</td>\n",
       "      <td>NaN</td>\n",
       "      <td>NaN</td>\n",
       "      <td>NaN</td>\n",
       "    </tr>\n",
       "    <tr>\n",
       "      <th>2</th>\n",
       "      <td>2021.0</td>\n",
       "      <td>December</td>\n",
       "      <td>Dec 19</td>\n",
       "      <td>23:30</td>\n",
       "      <td>Typhoon Rai (Odette) 2021</td>\n",
       "      <td>Typhoon</td>\n",
       "      <td>T</td>\n",
       "      <td>170.0</td>\n",
       "      <td>962.0</td>\n",
       "      <td>NaN</td>\n",
       "      <td>...</td>\n",
       "      <td>NaN</td>\n",
       "      <td>NaN</td>\n",
       "      <td>NaN</td>\n",
       "      <td>NaN</td>\n",
       "      <td>NaN</td>\n",
       "      <td>NaN</td>\n",
       "      <td>NaN</td>\n",
       "      <td>NaN</td>\n",
       "      <td>NaN</td>\n",
       "      <td>NaN</td>\n",
       "    </tr>\n",
       "    <tr>\n",
       "      <th>3</th>\n",
       "      <td>2021.0</td>\n",
       "      <td>December</td>\n",
       "      <td>Dec 17</td>\n",
       "      <td>17:30</td>\n",
       "      <td>Typhoon Rai (Odette) 2021</td>\n",
       "      <td>Typhoon</td>\n",
       "      <td>T</td>\n",
       "      <td>175.0</td>\n",
       "      <td>963.0</td>\n",
       "      <td>NaN</td>\n",
       "      <td>...</td>\n",
       "      <td>NaN</td>\n",
       "      <td>NaN</td>\n",
       "      <td>NaN</td>\n",
       "      <td>NaN</td>\n",
       "      <td>NaN</td>\n",
       "      <td>NaN</td>\n",
       "      <td>NaN</td>\n",
       "      <td>NaN</td>\n",
       "      <td>NaN</td>\n",
       "      <td>NaN</td>\n",
       "    </tr>\n",
       "    <tr>\n",
       "      <th>4</th>\n",
       "      <td>2021.0</td>\n",
       "      <td>December</td>\n",
       "      <td>Dec 15</td>\n",
       "      <td>5:30</td>\n",
       "      <td>Typhoon Rai (Odette) 2021</td>\n",
       "      <td>Typhoon</td>\n",
       "      <td>T</td>\n",
       "      <td>120.0</td>\n",
       "      <td>985.0</td>\n",
       "      <td>NaN</td>\n",
       "      <td>...</td>\n",
       "      <td>NaN</td>\n",
       "      <td>NaN</td>\n",
       "      <td>NaN</td>\n",
       "      <td>NaN</td>\n",
       "      <td>NaN</td>\n",
       "      <td>NaN</td>\n",
       "      <td>NaN</td>\n",
       "      <td>NaN</td>\n",
       "      <td>NaN</td>\n",
       "      <td>NaN</td>\n",
       "    </tr>\n",
       "  </tbody>\n",
       "</table>\n",
       "<p>5 rows × 25 columns</p>\n",
       "</div>"
      ],
      "text/plain": [
       "     Year     Month    Date   Time                CycloneName TypeName Type  \\\n",
       "0  2021.0  December  Dec 18  11:30  Typhoon Rai (Odette) 2021  Typhoon    T   \n",
       "1  2021.0  December  Dec 19  17:30  Typhoon Rai (Odette) 2021  Typhoon    T   \n",
       "2  2021.0  December  Dec 19  23:30  Typhoon Rai (Odette) 2021  Typhoon    T   \n",
       "3  2021.0  December  Dec 17  17:30  Typhoon Rai (Odette) 2021  Typhoon    T   \n",
       "4  2021.0  December  Dec 15   5:30  Typhoon Rai (Odette) 2021  Typhoon    T   \n",
       "\n",
       "   Wind(km/h)  Pressure(mb)  Unnamed: 9  ...  Unnamed: 15  Unnamed: 16  \\\n",
       "0       170.0         962.0         NaN  ...          NaN          NaN   \n",
       "1       165.0         957.0         NaN  ...          NaN          NaN   \n",
       "2       170.0         962.0         NaN  ...          NaN          NaN   \n",
       "3       175.0         963.0         NaN  ...          NaN          NaN   \n",
       "4       120.0         985.0         NaN  ...          NaN          NaN   \n",
       "\n",
       "   Unnamed: 17  Unnamed: 18  Unnamed: 19  Unnamed: 20  Unnamed: 21  \\\n",
       "0          NaN          NaN          NaN          NaN          NaN   \n",
       "1          NaN          NaN          NaN          NaN          NaN   \n",
       "2          NaN          NaN          NaN          NaN          NaN   \n",
       "3          NaN          NaN          NaN          NaN          NaN   \n",
       "4          NaN          NaN          NaN          NaN          NaN   \n",
       "\n",
       "   Unnamed: 22  Unnamed: 23  Unnamed: 24  \n",
       "0          NaN          NaN          NaN  \n",
       "1          NaN          NaN          NaN  \n",
       "2          NaN          NaN          NaN  \n",
       "3          NaN          NaN          NaN  \n",
       "4          NaN          NaN          NaN  \n",
       "\n",
       "[5 rows x 25 columns]"
      ]
     },
     "execution_count": 427,
     "metadata": {},
     "output_type": "execute_result"
    }
   ],
   "source": [
    "df.head()"
   ]
  },
  {
   "cell_type": "code",
   "execution_count": 428,
   "id": "90a418b1",
   "metadata": {},
   "outputs": [
    {
     "data": {
      "text/plain": [
       "<AxesSubplot:>"
      ]
     },
     "execution_count": 428,
     "metadata": {},
     "output_type": "execute_result"
    },
    {
     "data": {
      "image/png": "[encoded data removed]",
      "text/plain": [
       "<Figure size 1008x504 with 1 Axes>"
      ]
     },
     "metadata": {
      "needs_background": "light"
     },
     "output_type": "display_data"
    }
   ],
   "source": [
    "plt.figure(figsize=(14, 7))\n",
    "sns.heatmap(df.isnull(),yticklabels=False,cbar=False,cmap=\"viridis\")"
   ]
  },
  {
   "cell_type": "code",
   "execution_count": 429,
   "id": "f21560ab",
   "metadata": {
    "scrolled": true
   },
   "outputs": [
    {
     "data": {
      "text/plain": [
       "Year              3\n",
       "Month           132\n",
       "Date              2\n",
       "Time              2\n",
       "CycloneName     132\n",
       "TypeName          2\n",
       "Type              4\n",
       "Wind(km/h)        2\n",
       "Pressure(mb)      2\n",
       "Unnamed: 9      174\n",
       "Unnamed: 10     174\n",
       "Unnamed: 11     174\n",
       "Unnamed: 12     174\n",
       "Unnamed: 13     174\n",
       "Unnamed: 14     174\n",
       "Unnamed: 15     174\n",
       "Unnamed: 16     174\n",
       "Unnamed: 17     174\n",
       "Unnamed: 18     174\n",
       "Unnamed: 19     174\n",
       "Unnamed: 20     174\n",
       "Unnamed: 21     174\n",
       "Unnamed: 22     174\n",
       "Unnamed: 23     174\n",
       "Unnamed: 24     174\n",
       "dtype: int64"
      ]
     },
     "execution_count": 429,
     "metadata": {},
     "output_type": "execute_result"
    }
   ],
   "source": [
    "df.isnull().sum()"
   ]
  },
  {
   "cell_type": "code",
   "execution_count": 430,
   "id": "ebaf3037",
   "metadata": {},
   "outputs": [
    {
     "data": {
      "text/plain": [
       "Index(['Year', 'Month', 'Date', 'Time', 'CycloneName', 'TypeName', 'Type',\n",
       "       'Wind(km/h)', 'Pressure(mb)', 'Unnamed: 9', 'Unnamed: 10',\n",
       "       'Unnamed: 11', 'Unnamed: 12', 'Unnamed: 13', 'Unnamed: 14',\n",
       "       'Unnamed: 15', 'Unnamed: 16', 'Unnamed: 17', 'Unnamed: 18',\n",
       "       'Unnamed: 19', 'Unnamed: 20', 'Unnamed: 21', 'Unnamed: 22',\n",
       "       'Unnamed: 23', 'Unnamed: 24'],\n",
       "      dtype='object')"
      ]
     },
     "execution_count": 430,
     "metadata": {},
     "output_type": "execute_result"
    }
   ],
   "source": [
    "df.columns"
   ]
  },
  {
   "cell_type": "code",
   "execution_count": 431,
   "id": "3fe743f8",
   "metadata": {},
   "outputs": [
    {
     "data": {
      "text/html": [
       "<div>\n",
       "<style scoped>\n",
       "    .dataframe tbody tr th:only-of-type {\n",
       "        vertical-align: middle;\n",
       "    }\n",
       "\n",
       "    .dataframe tbody tr th {\n",
       "        vertical-align: top;\n",
       "    }\n",
       "\n",
       "    .dataframe thead th {\n",
       "        text-align: right;\n",
       "    }\n",
       "</style>\n",
       "<table border=\"1\" class=\"dataframe\">\n",
       "  <thead>\n",
       "    <tr style=\"text-align: right;\">\n",
       "      <th></th>\n",
       "      <th>Year</th>\n",
       "      <th>Month</th>\n",
       "      <th>Date</th>\n",
       "      <th>Time</th>\n",
       "      <th>CycloneName</th>\n",
       "      <th>TypeName</th>\n",
       "      <th>Type</th>\n",
       "      <th>Wind(km/h)</th>\n",
       "      <th>Pressure(mb)</th>\n",
       "    </tr>\n",
       "  </thead>\n",
       "  <tbody>\n",
       "    <tr>\n",
       "      <th>0</th>\n",
       "      <td>2021.0</td>\n",
       "      <td>December</td>\n",
       "      <td>Dec 18</td>\n",
       "      <td>11:30</td>\n",
       "      <td>Typhoon Rai (Odette) 2021</td>\n",
       "      <td>Typhoon</td>\n",
       "      <td>T</td>\n",
       "      <td>170.0</td>\n",
       "      <td>962.0</td>\n",
       "    </tr>\n",
       "    <tr>\n",
       "      <th>1</th>\n",
       "      <td>2021.0</td>\n",
       "      <td>December</td>\n",
       "      <td>Dec 19</td>\n",
       "      <td>17:30</td>\n",
       "      <td>Typhoon Rai (Odette) 2021</td>\n",
       "      <td>Typhoon</td>\n",
       "      <td>T</td>\n",
       "      <td>165.0</td>\n",
       "      <td>957.0</td>\n",
       "    </tr>\n",
       "    <tr>\n",
       "      <th>2</th>\n",
       "      <td>2021.0</td>\n",
       "      <td>December</td>\n",
       "      <td>Dec 19</td>\n",
       "      <td>23:30</td>\n",
       "      <td>Typhoon Rai (Odette) 2021</td>\n",
       "      <td>Typhoon</td>\n",
       "      <td>T</td>\n",
       "      <td>170.0</td>\n",
       "      <td>962.0</td>\n",
       "    </tr>\n",
       "    <tr>\n",
       "      <th>3</th>\n",
       "      <td>2021.0</td>\n",
       "      <td>December</td>\n",
       "      <td>Dec 17</td>\n",
       "      <td>17:30</td>\n",
       "      <td>Typhoon Rai (Odette) 2021</td>\n",
       "      <td>Typhoon</td>\n",
       "      <td>T</td>\n",
       "      <td>175.0</td>\n",
       "      <td>963.0</td>\n",
       "    </tr>\n",
       "    <tr>\n",
       "      <th>4</th>\n",
       "      <td>2021.0</td>\n",
       "      <td>December</td>\n",
       "      <td>Dec 15</td>\n",
       "      <td>5:30</td>\n",
       "      <td>Typhoon Rai (Odette) 2021</td>\n",
       "      <td>Typhoon</td>\n",
       "      <td>T</td>\n",
       "      <td>120.0</td>\n",
       "      <td>985.0</td>\n",
       "    </tr>\n",
       "  </tbody>\n",
       "</table>\n",
       "</div>"
      ],
      "text/plain": [
       "     Year     Month    Date   Time                CycloneName TypeName Type  \\\n",
       "0  2021.0  December  Dec 18  11:30  Typhoon Rai (Odette) 2021  Typhoon    T   \n",
       "1  2021.0  December  Dec 19  17:30  Typhoon Rai (Odette) 2021  Typhoon    T   \n",
       "2  2021.0  December  Dec 19  23:30  Typhoon Rai (Odette) 2021  Typhoon    T   \n",
       "3  2021.0  December  Dec 17  17:30  Typhoon Rai (Odette) 2021  Typhoon    T   \n",
       "4  2021.0  December  Dec 15   5:30  Typhoon Rai (Odette) 2021  Typhoon    T   \n",
       "\n",
       "   Wind(km/h)  Pressure(mb)  \n",
       "0       170.0         962.0  \n",
       "1       165.0         957.0  \n",
       "2       170.0         962.0  \n",
       "3       175.0         963.0  \n",
       "4       120.0         985.0  "
      ]
     },
     "execution_count": 431,
     "metadata": {},
     "output_type": "execute_result"
    }
   ],
   "source": [
    "df = df[['Year', 'Month', 'Date', 'Time', 'CycloneName', 'TypeName', 'Type',\n",
    "       'Wind(km/h)', 'Pressure(mb)']]\n",
    "df.head()"
   ]
  },
  {
   "cell_type": "code",
   "execution_count": 432,
   "id": "b978908f",
   "metadata": {},
   "outputs": [
    {
     "name": "stdout",
     "output_type": "stream",
     "text": [
      "[2021.   nan 2009. 2010. 2011. 2012. 2013. 2015. 2016. 2017. 2018. 2019.\n",
      " 2020. 2014.]\n",
      "['December' 'October' 'September' nan]\n",
      "['Dec 18' 'Dec 19' 'Dec 17' 'Dec 15' 'Oct 27' 'Oct 28' 'Oct 29' 'Sep 27'\n",
      " 'Sep 25' 'Sep 26' 'Sep 28' 'Sep 30' 'Oct 1' 'Sep 7' 'Sep 12' 'Sep 13'\n",
      " '14-Dec' '13-Dec' '11-Dec' '12-Dec' '19-Dec' '6-Dec' '25-Dec' '15-Dec'\n",
      " '16-Dec' '23-Dec' '1-Jan' '2-Jan' '31-Dec' '29-Dec' '12-Jan' '13-Jan'\n",
      " '8-Jan' '9-Jan' '14-Jan' '11-Jan' '22-Jan' '23-Jan' '16-Jan' '17-Jan'\n",
      " '2-Feb' '30-Jan' '29-Jan' nan datetime.datetime(2021, 12, 8, 0, 0)\n",
      " datetime.datetime(2021, 12, 7, 0, 0)\n",
      " datetime.datetime(2021, 12, 11, 0, 0)\n",
      " datetime.datetime(2021, 12, 24, 0, 0)\n",
      " datetime.datetime(2021, 12, 18, 0, 0)\n",
      " datetime.datetime(2021, 12, 22, 0, 0)\n",
      " datetime.datetime(2021, 12, 31, 0, 0)\n",
      " datetime.datetime(2021, 1, 14, 0, 0) datetime.datetime(2021, 1, 15, 0, 0)\n",
      " datetime.datetime(2021, 1, 17, 0, 0) datetime.datetime(2021, 1, 18, 0, 0)\n",
      " datetime.datetime(2021, 1, 19, 0, 0) datetime.datetime(2021, 1, 20, 0, 0)\n",
      " datetime.datetime(2021, 1, 22, 0, 0)\n",
      " datetime.datetime(2021, 12, 15, 0, 0)\n",
      " datetime.datetime(2021, 12, 16, 0, 0) 'Dc16'\n",
      " datetime.datetime(2021, 12, 17, 0, 0)\n",
      " datetime.datetime(2021, 12, 12, 0, 0) 'Des12' '`Dec17'\n",
      " datetime.datetime(2021, 12, 23, 0, 0) datetime.datetime(2021, 1, 1, 0, 0)\n",
      " 'Jam12' datetime.datetime(2021, 1, 13, 0, 0) '`Jan19'\n",
      " datetime.datetime(2021, 1, 21, 0, 0) datetime.datetime(2021, 1, 23, 0, 0)]\n",
      "['11:30' '17:30' '23:30' '5:30' '3:30' '8:30' '20:30' '2:30' '14:30' nan\n",
      " datetime.time(2, 30) datetime.time(5, 30) datetime.time(20, 30)\n",
      " datetime.time(17, 30) datetime.time(23, 30) datetime.time(14, 30)\n",
      " datetime.time(11, 30) datetime.time(8, 30)]\n",
      "['Typhoon Rai (Odette) 2021' 'Typhoon Malou 2021'\n",
      " 'Typhoon Chanthu (Kiko) 2021' nan]\n",
      "['Typhoon' 'TROPICAL DEPRESSION' nan 'SEVERE TROPICAL STORM'\n",
      " 'TROPICAL STORM']\n",
      "['T' nan 'D' 'SS' 'S']\n",
      "[170. 165. 175. 120. 140. 125. 130. 150. 155. 135. 145.  55.  45.  35.\n",
      "  40.  60.  65.  70.  nan 110. 100. 105.  85.  75.  95.  80.  90.]\n",
      "[ 962.  957.  963.  985.  980.  984.  979.  976.  974.  968.  955.  983.\n",
      "  972.  965.  958.  961.  959.  952.  969.  975.  949.  953.  971. 1000.\n",
      " 1004. 1007. 1002. 1005.  998. 1001.  996. 1003.  990.  994.  995.   nan\n",
      "  978.  981.  970.  988.  982.  989.  987.  993.  991.  997.  992.  999.]\n"
     ]
    }
   ],
   "source": [
    "for i in df:\n",
    "    print(df[i].unique())"
   ]
  },
  {
   "cell_type": "code",
   "execution_count": 433,
   "id": "7a707526",
   "metadata": {},
   "outputs": [
    {
     "data": {
      "text/plain": [
       "Year              3\n",
       "Month           132\n",
       "Date              2\n",
       "Time              2\n",
       "CycloneName     132\n",
       "TypeName          2\n",
       "Type              4\n",
       "Wind(km/h)        2\n",
       "Pressure(mb)      2\n",
       "dtype: int64"
      ]
     },
     "execution_count": 433,
     "metadata": {},
     "output_type": "execute_result"
    }
   ],
   "source": [
    "df.isnull().sum()"
   ]
  },
  {
   "cell_type": "code",
   "execution_count": 434,
   "id": "c0f6dc2b",
   "metadata": {},
   "outputs": [],
   "source": [
    "df.drop(columns ='Month', inplace = True)\n",
    "df.drop(columns = \"CycloneName\", inplace = True)\n",
    "df.drop(columns = \"Time\", inplace = True)\n",
    "df.drop(columns = \"Date\", inplace = True)\n",
    "df.drop(columns = \"Type\", inplace = True)\n",
    "df.drop(columns = \"Pressure(mb)\", inplace = True)"
   ]
  },
  {
   "cell_type": "code",
   "execution_count": 435,
   "id": "3347e218",
   "metadata": {},
   "outputs": [
    {
     "data": {
      "text/html": [
       "<div>\n",
       "<style scoped>\n",
       "    .dataframe tbody tr th:only-of-type {\n",
       "        vertical-align: middle;\n",
       "    }\n",
       "\n",
       "    .dataframe tbody tr th {\n",
       "        vertical-align: top;\n",
       "    }\n",
       "\n",
       "    .dataframe thead th {\n",
       "        text-align: right;\n",
       "    }\n",
       "</style>\n",
       "<table border=\"1\" class=\"dataframe\">\n",
       "  <thead>\n",
       "    <tr style=\"text-align: right;\">\n",
       "      <th></th>\n",
       "      <th>Year</th>\n",
       "      <th>TypeName</th>\n",
       "      <th>Wind(km/h)</th>\n",
       "    </tr>\n",
       "  </thead>\n",
       "  <tbody>\n",
       "    <tr>\n",
       "      <th>0</th>\n",
       "      <td>2021.0</td>\n",
       "      <td>Typhoon</td>\n",
       "      <td>170.0</td>\n",
       "    </tr>\n",
       "    <tr>\n",
       "      <th>1</th>\n",
       "      <td>2021.0</td>\n",
       "      <td>Typhoon</td>\n",
       "      <td>165.0</td>\n",
       "    </tr>\n",
       "    <tr>\n",
       "      <th>2</th>\n",
       "      <td>2021.0</td>\n",
       "      <td>Typhoon</td>\n",
       "      <td>170.0</td>\n",
       "    </tr>\n",
       "    <tr>\n",
       "      <th>3</th>\n",
       "      <td>2021.0</td>\n",
       "      <td>Typhoon</td>\n",
       "      <td>175.0</td>\n",
       "    </tr>\n",
       "    <tr>\n",
       "      <th>4</th>\n",
       "      <td>2021.0</td>\n",
       "      <td>Typhoon</td>\n",
       "      <td>120.0</td>\n",
       "    </tr>\n",
       "  </tbody>\n",
       "</table>\n",
       "</div>"
      ],
      "text/plain": [
       "     Year TypeName  Wind(km/h)\n",
       "0  2021.0  Typhoon       170.0\n",
       "1  2021.0  Typhoon       165.0\n",
       "2  2021.0  Typhoon       170.0\n",
       "3  2021.0  Typhoon       175.0\n",
       "4  2021.0  Typhoon       120.0"
      ]
     },
     "execution_count": 435,
     "metadata": {},
     "output_type": "execute_result"
    }
   ],
   "source": [
    "df.head()"
   ]
  },
  {
   "cell_type": "code",
   "execution_count": 436,
   "id": "0e5004da",
   "metadata": {},
   "outputs": [
    {
     "data": {
      "text/html": [
       "<div>\n",
       "<style scoped>\n",
       "    .dataframe tbody tr th:only-of-type {\n",
       "        vertical-align: middle;\n",
       "    }\n",
       "\n",
       "    .dataframe tbody tr th {\n",
       "        vertical-align: top;\n",
       "    }\n",
       "\n",
       "    .dataframe thead th {\n",
       "        text-align: right;\n",
       "    }\n",
       "</style>\n",
       "<table border=\"1\" class=\"dataframe\">\n",
       "  <thead>\n",
       "    <tr style=\"text-align: right;\">\n",
       "      <th></th>\n",
       "      <th>Year</th>\n",
       "      <th>TypeName</th>\n",
       "      <th>Wind(km/h)</th>\n",
       "    </tr>\n",
       "  </thead>\n",
       "  <tbody>\n",
       "    <tr>\n",
       "      <th>count</th>\n",
       "      <td>171.000000</td>\n",
       "      <td>172</td>\n",
       "      <td>172.000000</td>\n",
       "    </tr>\n",
       "    <tr>\n",
       "      <th>unique</th>\n",
       "      <td>NaN</td>\n",
       "      <td>4</td>\n",
       "      <td>NaN</td>\n",
       "    </tr>\n",
       "    <tr>\n",
       "      <th>top</th>\n",
       "      <td>NaN</td>\n",
       "      <td>TROPICAL STORM</td>\n",
       "      <td>NaN</td>\n",
       "    </tr>\n",
       "    <tr>\n",
       "      <th>freq</th>\n",
       "      <td>NaN</td>\n",
       "      <td>53</td>\n",
       "      <td>NaN</td>\n",
       "    </tr>\n",
       "    <tr>\n",
       "      <th>mean</th>\n",
       "      <td>2016.660819</td>\n",
       "      <td>NaN</td>\n",
       "      <td>93.866279</td>\n",
       "    </tr>\n",
       "    <tr>\n",
       "      <th>std</th>\n",
       "      <td>4.124766</td>\n",
       "      <td>NaN</td>\n",
       "      <td>37.986911</td>\n",
       "    </tr>\n",
       "    <tr>\n",
       "      <th>min</th>\n",
       "      <td>2009.000000</td>\n",
       "      <td>NaN</td>\n",
       "      <td>35.000000</td>\n",
       "    </tr>\n",
       "    <tr>\n",
       "      <th>25%</th>\n",
       "      <td>2013.000000</td>\n",
       "      <td>NaN</td>\n",
       "      <td>60.000000</td>\n",
       "    </tr>\n",
       "    <tr>\n",
       "      <th>50%</th>\n",
       "      <td>2018.000000</td>\n",
       "      <td>NaN</td>\n",
       "      <td>85.000000</td>\n",
       "    </tr>\n",
       "    <tr>\n",
       "      <th>75%</th>\n",
       "      <td>2021.000000</td>\n",
       "      <td>NaN</td>\n",
       "      <td>120.000000</td>\n",
       "    </tr>\n",
       "    <tr>\n",
       "      <th>max</th>\n",
       "      <td>2021.000000</td>\n",
       "      <td>NaN</td>\n",
       "      <td>175.000000</td>\n",
       "    </tr>\n",
       "  </tbody>\n",
       "</table>\n",
       "</div>"
      ],
      "text/plain": [
       "               Year        TypeName  Wind(km/h)\n",
       "count    171.000000             172  172.000000\n",
       "unique          NaN               4         NaN\n",
       "top             NaN  TROPICAL STORM         NaN\n",
       "freq            NaN              53         NaN\n",
       "mean    2016.660819             NaN   93.866279\n",
       "std        4.124766             NaN   37.986911\n",
       "min     2009.000000             NaN   35.000000\n",
       "25%     2013.000000             NaN   60.000000\n",
       "50%     2018.000000             NaN   85.000000\n",
       "75%     2021.000000             NaN  120.000000\n",
       "max     2021.000000             NaN  175.000000"
      ]
     },
     "execution_count": 436,
     "metadata": {},
     "output_type": "execute_result"
    }
   ],
   "source": [
    "df.describe(include = \"all\")"
   ]
  },
  {
   "cell_type": "code",
   "execution_count": 437,
   "id": "90d3711f",
   "metadata": {},
   "outputs": [
    {
     "data": {
      "text/plain": [
       "Year          3\n",
       "TypeName      2\n",
       "Wind(km/h)    2\n",
       "dtype: int64"
      ]
     },
     "execution_count": 437,
     "metadata": {},
     "output_type": "execute_result"
    }
   ],
   "source": [
    "df.isnull().sum()"
   ]
  },
  {
   "cell_type": "code",
   "execution_count": 440,
   "id": "7ec3a524",
   "metadata": {},
   "outputs": [],
   "source": [
    "df.dropna(inplace=True)"
   ]
  },
  {
   "cell_type": "code",
   "execution_count": 441,
   "id": "9250cbc6",
   "metadata": {},
   "outputs": [
    {
     "data": {
      "text/plain": [
       "Year          0\n",
       "TypeName      0\n",
       "Wind(km/h)    0\n",
       "dtype: int64"
      ]
     },
     "execution_count": 441,
     "metadata": {},
     "output_type": "execute_result"
    }
   ],
   "source": [
    "df.isnull().sum()\n"
   ]
  },
  {
   "cell_type": "code",
   "execution_count": 442,
   "id": "f9e7db5d",
   "metadata": {
    "scrolled": false
   },
   "outputs": [
    {
     "data": {
      "text/html": [
       "<div>\n",
       "<style scoped>\n",
       "    .dataframe tbody tr th:only-of-type {\n",
       "        vertical-align: middle;\n",
       "    }\n",
       "\n",
       "    .dataframe tbody tr th {\n",
       "        vertical-align: top;\n",
       "    }\n",
       "\n",
       "    .dataframe thead th {\n",
       "        text-align: right;\n",
       "    }\n",
       "</style>\n",
       "<table border=\"1\" class=\"dataframe\">\n",
       "  <thead>\n",
       "    <tr style=\"text-align: right;\">\n",
       "      <th></th>\n",
       "      <th>Year</th>\n",
       "      <th>TypeName</th>\n",
       "      <th>Wind(km/h)</th>\n",
       "    </tr>\n",
       "  </thead>\n",
       "  <tbody>\n",
       "    <tr>\n",
       "      <th>91</th>\n",
       "      <td>2021.0</td>\n",
       "      <td>TROPICAL DEPRESSION</td>\n",
       "      <td>55.0</td>\n",
       "    </tr>\n",
       "    <tr>\n",
       "      <th>102</th>\n",
       "      <td>2014.0</td>\n",
       "      <td>SEVERE TROPICAL STORM</td>\n",
       "      <td>120.0</td>\n",
       "    </tr>\n",
       "  </tbody>\n",
       "</table>\n",
       "</div>"
      ],
      "text/plain": [
       "       Year               TypeName  Wind(km/h)\n",
       "91   2021.0    TROPICAL DEPRESSION        55.0\n",
       "102  2014.0  SEVERE TROPICAL STORM       120.0"
      ]
     },
     "execution_count": 442,
     "metadata": {},
     "output_type": "execute_result"
    }
   ],
   "source": [
    "df.iloc[[90,100]]"
   ]
  },
  {
   "cell_type": "code",
   "execution_count": 443,
   "id": "a483e37d",
   "metadata": {},
   "outputs": [
    {
     "data": {
      "text/plain": [
       "TROPICAL STORM           53\n",
       "TROPICAL DEPRESSION      50\n",
       "Typhoon                  41\n",
       "SEVERE TROPICAL STORM    27\n",
       "Name: TypeName, dtype: int64"
      ]
     },
     "execution_count": 443,
     "metadata": {},
     "output_type": "execute_result"
    }
   ],
   "source": [
    "df['TypeName'].value_counts()"
   ]
  },
  {
   "cell_type": "markdown",
   "id": "18e772ec",
   "metadata": {},
   "source": [
    "## Split Out dataset"
   ]
  },
  {
   "cell_type": "code",
   "execution_count": 444,
   "id": "2400ccf5",
   "metadata": {},
   "outputs": [
    {
     "data": {
      "text/plain": [
       "array([3, 1, 0, 2])"
      ]
     },
     "execution_count": 444,
     "metadata": {},
     "output_type": "execute_result"
    }
   ],
   "source": [
    "from sklearn import preprocessing\n",
    "label_encoder = preprocessing.LabelEncoder()\n",
    "df['TypeName']= label_encoder.fit_transform(df['TypeName'])\n",
    "\n",
    "df['TypeName'].unique()\n"
   ]
  },
  {
   "cell_type": "code",
   "execution_count": 445,
   "id": "5c411e1e",
   "metadata": {},
   "outputs": [
    {
     "data": {
      "text/plain": [
       "2    53\n",
       "1    50\n",
       "3    41\n",
       "0    27\n",
       "Name: TypeName, dtype: int64"
      ]
     },
     "execution_count": 445,
     "metadata": {},
     "output_type": "execute_result"
    }
   ],
   "source": [
    "df['TypeName'].value_counts()"
   ]
  },
  {
   "cell_type": "code",
   "execution_count": 446,
   "id": "ba654f02",
   "metadata": {},
   "outputs": [],
   "source": [
    "x = df.drop(columns = \"TypeName\")\n",
    "y = df[\"TypeName\"]"
   ]
  },
  {
   "cell_type": "code",
   "execution_count": 447,
   "id": "cd206943",
   "metadata": {},
   "outputs": [],
   "source": [
    "from sklearn.model_selection import train_test_split"
   ]
  },
  {
   "cell_type": "code",
   "execution_count": 448,
   "id": "097cda91",
   "metadata": {},
   "outputs": [],
   "source": [
    "x_train,x_test,y_train,y_test=train_test_split(x,y,test_size=0.3)"
   ]
  },
  {
   "cell_type": "markdown",
   "id": "77a8e465",
   "metadata": {},
   "source": [
    "## Data Standarize"
   ]
  },
  {
   "cell_type": "code",
   "execution_count": 449,
   "id": "24331a35",
   "metadata": {},
   "outputs": [
    {
     "data": {
      "text/plain": [
       "Year           3.960153\n",
       "Wind(km/h)    38.824231\n",
       "dtype: float64"
      ]
     },
     "execution_count": 449,
     "metadata": {},
     "output_type": "execute_result"
    }
   ],
   "source": [
    "x_train.std()"
   ]
  },
  {
   "cell_type": "code",
   "execution_count": 450,
   "id": "63f95fe9",
   "metadata": {
    "scrolled": true
   },
   "outputs": [
    {
     "name": "stdout",
     "output_type": "stream",
     "text": [
      "1.0\n"
     ]
    }
   ],
   "source": [
    "from sklearn.preprocessing import StandardScaler\n",
    "scaler = StandardScaler()\n",
    "scaler.fit(x_train)\n",
    "x_train_std = scaler.transform(x_train)\n",
    "print(x_train_std.std())"
   ]
  },
  {
   "cell_type": "code",
   "execution_count": 451,
   "id": "9cae1883",
   "metadata": {
    "scrolled": false
   },
   "outputs": [
    {
     "name": "stdout",
     "output_type": "stream",
     "text": [
      "1.0\n"
     ]
    }
   ],
   "source": [
    "from sklearn.preprocessing import StandardScaler\n",
    "scaler = StandardScaler()\n",
    "scaler.fit(x_test)\n",
    "x_test_std = scaler.transform(x_test)\n",
    "print(x_test_std.std())"
   ]
  },
  {
   "cell_type": "code",
   "execution_count": 452,
   "id": "29cff300",
   "metadata": {},
   "outputs": [],
   "source": [
    "x_train=x_train_std\n",
    "x_test=x_test_std"
   ]
  },
  {
   "cell_type": "markdown",
   "id": "2e5e2187",
   "metadata": {},
   "source": [
    "## Model Building"
   ]
  },
  {
   "cell_type": "code",
   "execution_count": 453,
   "id": "5cdb7f53",
   "metadata": {
    "scrolled": false
   },
   "outputs": [],
   "source": [
    "from pandas.plotting import scatter_matrix\n",
    "from sklearn.linear_model import LogisticRegression\n",
    "from sklearn.model_selection import train_test_split\n",
    "from sklearn.preprocessing import StandardScaler\n",
    "from sklearn.metrics import accuracy_score\n",
    "from sklearn import metrics\n",
    "from sklearn.metrics import r2_score\n",
    "from sklearn.metrics import mean_squared_error\n",
    "from sklearn.tree import DecisionTreeClassifier\n",
    "from sklearn.neighbors import KNeighborsClassifier\n",
    "from sklearn.metrics import classification_report, confusion_matrix\n",
    "from sklearn.metrics import mean_absolute_error\n",
    "from sklearn.metrics import mean_squared_error\n",
    "from sklearn.ensemble import RandomForestClassifier\n",
    "from sklearn.discriminant_analysis import LinearDiscriminantAnalysis\n",
    "from sklearn.naive_bayes import GaussianNB\n",
    "from sklearn.svm import SVC\n",
    "from sklearn.ensemble import RandomForestClassifier"
   ]
  },
  {
   "cell_type": "code",
   "execution_count": 454,
   "id": "10eae73a",
   "metadata": {},
   "outputs": [],
   "source": [
    "# Algos to be Used\n",
    "models = []\n",
    "models.append(('LR', LogisticRegression()))\n",
    "models.append(('LDA', LinearDiscriminantAnalysis()))\n",
    "models.append(('KNN', KNeighborsClassifier()))\n",
    "models.append(('CART', DecisionTreeClassifier()))\n",
    "models.append(('NB', GaussianNB()))\n",
    "models.append(('SVM', SVC()))\n",
    "models.append((\"RFC\",RandomForestClassifier()))"
   ]
  },
  {
   "cell_type": "code",
   "execution_count": 455,
   "id": "6bd96227",
   "metadata": {
    "scrolled": false
   },
   "outputs": [
    {
     "name": "stdout",
     "output_type": "stream",
     "text": [
      "                                                                                                            \n",
      "````````````````````````````````````````````````````````````````````````````````````````````````````````````\n",
      "Algorithnm : LogisticRegression()\n",
      "````````````````````````````````````````````````````````````````````````````````````````````````````````````\n",
      "Confusion Matrix:\n",
      "[[ 6  0  2  1]\n",
      " [ 0 13  4  0]\n",
      " [ 0  1 15  0]\n",
      " [ 0  0  0 10]]\n",
      "Classification Report:\n",
      "              precision    recall  f1-score   support\n",
      "\n",
      "           0       1.00      0.67      0.80         9\n",
      "           1       0.93      0.76      0.84        17\n",
      "           2       0.71      0.94      0.81        16\n",
      "           3       0.91      1.00      0.95        10\n",
      "\n",
      "    accuracy                           0.85        52\n",
      "   macro avg       0.89      0.84      0.85        52\n",
      "weighted avg       0.87      0.85      0.85        52\n",
      "\n",
      "R Squared = 0.5684647302904564\n",
      "Accuracy:   84.61538461538461 %\n",
      "                                                                                                            \n",
      "````````````````````````````````````````````````````````````````````````````````````````````````````````````\n",
      "Algorithnm : LinearDiscriminantAnalysis()\n",
      "````````````````````````````````````````````````````````````````````````````````````````````````````````````\n",
      "Confusion Matrix:\n",
      "[[ 6  0  0  3]\n",
      " [ 0 13  4  0]\n",
      " [ 3  1 12  0]\n",
      " [ 0  0  0 10]]\n",
      "Classification Report:\n",
      "              precision    recall  f1-score   support\n",
      "\n",
      "           0       0.67      0.67      0.67         9\n",
      "           1       0.93      0.76      0.84        17\n",
      "           2       0.75      0.75      0.75        16\n",
      "           3       0.77      1.00      0.87        10\n",
      "\n",
      "    accuracy                           0.79        52\n",
      "   macro avg       0.78      0.80      0.78        52\n",
      "weighted avg       0.80      0.79      0.79        52\n",
      "\n",
      "R Squared = 0.13692946058091282\n",
      "Accuracy:   78.84615384615384 %\n",
      "                                                                                                            \n",
      "````````````````````````````````````````````````````````````````````````````````````````````````````````````\n",
      "Algorithnm : KNeighborsClassifier()\n",
      "````````````````````````````````````````````````````````````````````````````````````````````````````````````\n",
      "Confusion Matrix:\n",
      "[[ 9  0  0  0]\n",
      " [ 0 15  2  0]\n",
      " [ 3  1 12  0]\n",
      " [ 0  0  0 10]]\n",
      "Classification Report:\n",
      "              precision    recall  f1-score   support\n",
      "\n",
      "           0       0.75      1.00      0.86         9\n",
      "           1       0.94      0.88      0.91        17\n",
      "           2       0.86      0.75      0.80        16\n",
      "           3       1.00      1.00      1.00        10\n",
      "\n",
      "    accuracy                           0.88        52\n",
      "   macro avg       0.89      0.91      0.89        52\n",
      "weighted avg       0.89      0.88      0.88        52\n",
      "\n",
      "R Squared = 0.7057714070162202\n",
      "Accuracy:   88.46153846153845 %\n",
      "                                                                                                            \n",
      "````````````````````````````````````````````````````````````````````````````````````````````````````````````\n",
      "Algorithnm : DecisionTreeClassifier()\n",
      "````````````````````````````````````````````````````````````````````````````````````````````````````````````\n",
      "Confusion Matrix:\n",
      "[[ 9  0  0  0]\n",
      " [ 0 15  2  0]\n",
      " [ 3  0 13  0]\n",
      " [ 0  0  0 10]]\n",
      "Classification Report:\n",
      "              precision    recall  f1-score   support\n",
      "\n",
      "           0       0.75      1.00      0.86         9\n",
      "           1       1.00      0.88      0.94        17\n",
      "           2       0.87      0.81      0.84        16\n",
      "           3       1.00      1.00      1.00        10\n",
      "\n",
      "    accuracy                           0.90        52\n",
      "   macro avg       0.90      0.92      0.91        52\n",
      "weighted avg       0.92      0.90      0.91        52\n",
      "\n",
      "R Squared = 0.7253866465484722\n",
      "Accuracy:   90.38461538461539 %\n",
      "                                                                                                            \n",
      "````````````````````````````````````````````````````````````````````````````````````````````````````````````\n",
      "Algorithnm : GaussianNB()\n",
      "````````````````````````````````````````````````````````````````````````````````````````````````````````````\n",
      "Confusion Matrix:\n",
      "[[ 9  0  0  0]\n",
      " [ 0 15  2  0]\n",
      " [ 3  0 13  0]\n",
      " [10  0  0  0]]\n",
      "Classification Report:\n",
      "              precision    recall  f1-score   support\n",
      "\n",
      "           0       0.41      1.00      0.58         9\n",
      "           1       1.00      0.88      0.94        17\n",
      "           2       0.87      0.81      0.84        16\n",
      "           3       0.00      0.00      0.00        10\n",
      "\n",
      "    accuracy                           0.71        52\n",
      "   macro avg       0.57      0.67      0.59        52\n",
      "weighted avg       0.66      0.71      0.67        52\n",
      "\n",
      "R Squared = -1.0399849113542063\n",
      "Accuracy:   71.15384615384616 %\n",
      "                                                                                                            \n",
      "````````````````````````````````````````````````````````````````````````````````````````````````````````````\n",
      "Algorithnm : SVC()\n",
      "````````````````````````````````````````````````````````````````````````````````````````````````````````````\n",
      "Confusion Matrix:\n",
      "[[ 9  0  0  0]\n",
      " [ 0 13  4  0]\n",
      " [ 0  0 16  0]\n",
      " [ 0  0  0 10]]\n",
      "Classification Report:\n",
      "              precision    recall  f1-score   support\n",
      "\n",
      "           0       1.00      1.00      1.00         9\n",
      "           1       1.00      0.76      0.87        17\n",
      "           2       0.80      1.00      0.89        16\n",
      "           3       1.00      1.00      1.00        10\n",
      "\n",
      "    accuracy                           0.92        52\n",
      "   macro avg       0.95      0.94      0.94        52\n",
      "weighted avg       0.94      0.92      0.92        52\n",
      "\n",
      "R Squared = 0.9215390418709921\n",
      "Accuracy:   92.3076923076923 %\n",
      "                                                                                                            \n",
      "````````````````````````````````````````````````````````````````````````````````````````````````````````````\n",
      "Algorithnm : RandomForestClassifier()\n",
      "````````````````````````````````````````````````````````````````````````````````````````````````````````````\n",
      "Confusion Matrix:\n",
      "[[ 9  0  0  0]\n",
      " [ 0 15  2  0]\n",
      " [ 3  0 13  0]\n",
      " [ 0  0  0 10]]\n",
      "Classification Report:\n",
      "              precision    recall  f1-score   support\n",
      "\n",
      "           0       0.75      1.00      0.86         9\n",
      "           1       1.00      0.88      0.94        17\n",
      "           2       0.87      0.81      0.84        16\n",
      "           3       1.00      1.00      1.00        10\n",
      "\n",
      "    accuracy                           0.90        52\n",
      "   macro avg       0.90      0.92      0.91        52\n",
      "weighted avg       0.92      0.90      0.91        52\n",
      "\n",
      "R Squared = 0.7253866465484722\n",
      "Accuracy:   90.38461538461539 %\n"
     ]
    }
   ],
   "source": [
    "results = []\n",
    "names = []\n",
    "for name, model in models:\n",
    "    model.fit(x_train,y_train)\n",
    "    prediction=model.predict(x_test)\n",
    "    result = confusion_matrix(y_test, prediction)\n",
    "    print(\"                                                                                                            \")\n",
    "    print(\"````````````````````````````````````````````````````````````````````````````````````````````````````````````\")\n",
    "    print(\"Algorithnm :\",model)\n",
    "    print(\"````````````````````````````````````````````````````````````````````````````````````````````````````````````\")\n",
    "    print(\"Confusion Matrix:\")\n",
    "    print(result)\n",
    "    result1 = classification_report(y_test, prediction)\n",
    "    print(\"Classification Report:\",)\n",
    "    print (result1)\n",
    "    result2 = accuracy_score(y_test,prediction)\n",
    "    print ('R Squared =',r2_score(y_test, prediction))\n",
    "    print(\"Accuracy:  \",result2*100,\"%\")"
   ]
  },
  {
   "cell_type": "code",
   "execution_count": null,
   "id": "ac8d1666",
   "metadata": {},
   "outputs": [],
   "source": []
  },
  {
   "cell_type": "code",
   "execution_count": null,
   "id": "2753581f",
   "metadata": {},
   "outputs": [],
   "source": []
  },
  {
   "cell_type": "code",
   "execution_count": null,
   "id": "edb46504",
   "metadata": {},
   "outputs": [],
   "source": []
  },
  {
   "cell_type": "code",
   "execution_count": null,
   "id": "58594775",
   "metadata": {},
   "outputs": [],
   "source": []
  },
  {
   "cell_type": "code",
   "execution_count": null,
   "id": "89a891ba",
   "metadata": {},
   "outputs": [],
   "source": []
  },
  {
   "cell_type": "code",
   "execution_count": null,
   "id": "7cd83bee",
   "metadata": {},
   "outputs": [],
   "source": []
  },
  {
   "cell_type": "code",
   "execution_count": 456,
   "id": "f98c3768",
   "metadata": {
    "scrolled": false
   },
   "outputs": [
    {
     "name": "stdout",
     "output_type": "stream",
     "text": [
      "                                                                                                            \n",
      "````````````````````````````````````````````````````````````````````````````````````````````````````````````\n",
      "Algorithnm : RandomForestClassifier()\n",
      "````````````````````````````````````````````````````````````````````````````````````````````````````````````\n",
      "Confusion Matrix:\n",
      "[[ 9  0  0  0]\n",
      " [ 0 15  2  0]\n",
      " [ 3  0 13  0]\n",
      " [ 0  0  0 10]]\n",
      "Classification Report:\n",
      "              precision    recall  f1-score   support\n",
      "\n",
      "           0       0.75      1.00      0.86         9\n",
      "           1       1.00      0.88      0.94        17\n",
      "           2       0.87      0.81      0.84        16\n",
      "           3       1.00      1.00      1.00        10\n",
      "\n",
      "    accuracy                           0.90        52\n",
      "   macro avg       0.90      0.92      0.91        52\n",
      "weighted avg       0.92      0.90      0.91        52\n",
      "\n",
      "R Squared = 0.7253866465484722\n",
      "Accuracy:   90.38461538461539 %\n"
     ]
    }
   ],
   "source": [
    "SVC = SVC()\n",
    "SVC.fit(x_train,y_train)\n",
    "prediction=model.predict(x_test)\n",
    "result = confusion_matrix(y_test, prediction)\n",
    "print(\"                                                                                                            \")\n",
    "print(\"````````````````````````````````````````````````````````````````````````````````````````````````````````````\")\n",
    "print(\"Algorithnm :\",model)\n",
    "print(\"````````````````````````````````````````````````````````````````````````````````````````````````````````````\")\n",
    "print(\"Confusion Matrix:\")\n",
    "print(result)\n",
    "result1 = classification_report(y_test, prediction)\n",
    "print(\"Classification Report:\",)\n",
    "print (result1)\n",
    "result2 = accuracy_score(y_test,prediction)\n",
    "print ('R Squared =',r2_score(y_test, prediction))\n",
    "print(\"Accuracy:  \",result2*100,\"%\")"
   ]
  },
  {
   "cell_type": "markdown",
   "id": "65963eba",
   "metadata": {},
   "source": [
    "## Saving Model - pickle file"
   ]
  },
  {
   "cell_type": "code",
   "execution_count": 393,
   "id": "d3dcf74c",
   "metadata": {},
   "outputs": [],
   "source": [
    "with open('model_pkl', 'wb') as files:\n",
    "    pickle.dump(SVC, files)"
   ]
  },
  {
   "cell_type": "code",
   "execution_count": 394,
   "id": "68ae35e3",
   "metadata": {},
   "outputs": [],
   "source": [
    "# load saved model\n",
    "with open('model_pkl' , 'rb') as f:\n",
    "    lr = pickle.load(f)"
   ]
  },
  {
   "cell_type": "code",
   "execution_count": 402,
   "id": "bc66b578",
   "metadata": {},
   "outputs": [
    {
     "data": {
      "text/plain": [
       "array([2])"
      ]
     },
     "execution_count": 402,
     "metadata": {},
     "output_type": "execute_result"
    }
   ],
   "source": [
    "lr.predict([[2021.0, 55, 995]])"
   ]
  },
  {
   "cell_type": "code",
   "execution_count": 457,
   "id": "6a36a0a2",
   "metadata": {},
   "outputs": [],
   "source": [
    "import pickle\n",
    "# save the model to disk\n",
    "filename = 'Cyclone_Classification.sav'\n",
    "pickle.dump(SVC, open(filename, 'wb'))"
   ]
  },
  {
   "cell_type": "code",
   "execution_count": 458,
   "id": "f066f332",
   "metadata": {},
   "outputs": [
    {
     "name": "stdout",
     "output_type": "stream",
     "text": [
      "92.3076923076923\n"
     ]
    }
   ],
   "source": [
    "# load the model from disk\n",
    "loaded_model = pickle.load(open(filename, 'rb'))\n",
    "loaded_result = loaded_model.score(x_test, y_test)\n",
    "print(loaded_result*100)"
   ]
  },
  {
   "cell_type": "code",
   "execution_count": 459,
   "id": "3b16e155",
   "metadata": {},
   "outputs": [
    {
     "data": {
      "text/plain": [
       "0.9230769230769231"
      ]
     },
     "execution_count": 459,
     "metadata": {},
     "output_type": "execute_result"
    }
   ],
   "source": [
    "loaded_model.score(x_test, y_test)"
   ]
  },
  {
   "cell_type": "code",
   "execution_count": null,
   "id": "749f1ce4",
   "metadata": {},
   "outputs": [],
   "source": [
    "loaded_model.predict([[2021, 140]])"
   ]
  },
  {
   "cell_type": "code",
   "execution_count": null,
   "id": "d7f89c9d",
   "metadata": {},
   "outputs": [],
   "source": []
  }
 ],
 "metadata": {
  "kernelspec": {
   "display_name": "Python 3",
   "language": "python",
   "name": "python3"
  },
  "language_info": {
   "codemirror_mode": {
    "name": "ipython",
    "version": 3
   },
   "file_extension": ".py",
   "mimetype": "text/x-python",
   "name": "python",
   "nbconvert_exporter": "python",
   "pygments_lexer": "ipython3",
   "version": "3.8.8"
  }
 },
 "nbformat": 4,
 "nbformat_minor": 5
}
